{
  "cells": [
    {
      "cell_type": "markdown",
      "metadata": {
        "id": "view-in-github",
        "colab_type": "text"
      },
      "source": [
        "<a href=\"https://colab.research.google.com/github/Naftal-Rainer/Network_Intrusion_Detection/blob/main/NID.ipynb\" target=\"_parent\"><img src=\"https://colab.research.google.com/assets/colab-badge.svg\" alt=\"Open In Colab\"/></a>"
      ]
    },
    {
      "cell_type": "markdown",
      "metadata": {
        "id": "jjmn9nIRFHaq"
      },
      "source": [
        "# Overview"
      ]
    },
    {
      "cell_type": "markdown",
      "metadata": {
        "id": "PGjAgG0sFHav"
      },
      "source": [
        "Network Intrusion Detection has evolved to become a most significant feature in the field of study with the expansion in technology and increase in the usage of the same.\n",
        "\n",
        "The project involves an Intrusion Detection System whose objective is to broadly classify network attacks as normal or\n",
        "hostile attack based on the activities of the users. \n",
        "\n",
        "I'll use the following classifiers for this project:\n",
        "\n",
        "1. Decision Tree Classifier.\n",
        "\n",
        "2. Random Forest Classifier.\n",
        "\n",
        "\n",
        "The NSL-KDD  Dataset has  been  used. The  Dataset  consist  a  total  of  42 attributes in which the last column is the class label.\n",
        "\n",
        "The python libraries and packages i'll use are:\n",
        "- Numpy\n",
        "- Pandas\n",
        "- Seaborn\n",
        "- Matplotlib \n",
        "- Scikit-learn"
      ]
    },
    {
      "cell_type": "markdown",
      "metadata": {
        "id": "-c9Kvw-bFHay"
      },
      "source": [
        "# Preliminaries / Environment Setup"
      ]
    },
    {
      "cell_type": "markdown",
      "metadata": {
        "id": "2ZGhyu_dFHaz"
      },
      "source": [
        "### Import common packages"
      ]
    },
    {
      "cell_type": "code",
      "execution_count": 2,
      "metadata": {
        "id": "c5kZfW4qFHa0"
      },
      "outputs": [],
      "source": [
        "import numpy as np\n",
        "import pandas as pd\n",
        "%matplotlib inline\n",
        "import matplotlib\n",
        "import matplotlib.pyplot as plt\n",
        "import seaborn as sns\n",
        "import sklearn\n",
        "import imblearn\n",
        "from sklearn.tree import DecisionTreeClassifier  \n",
        "from sklearn.ensemble import RandomForestClassifier \n",
        "from sklearn.preprocessing import LabelEncoder as LE\n",
        "from sklearn.metrics import classification_report\n",
        "from sklearn.metrics import confusion_matrix\n",
        "from sklearn.preprocessing import StandardScaler\n",
        "from sklearn.model_selection import cross_val_score\n",
        "\n",
        "# Ignore warnings\n",
        "import warnings\n",
        "warnings.filterwarnings('ignore')\n",
        "\n",
        "# Settings\n",
        "sns.set(style=\"darkgrid\")\n",
        "plt.rcParams['axes.labelsize'] = 14\n",
        "plt.rcParams['xtick.labelsize'] = 12\n",
        "plt.rcParams['ytick.labelsize'] = 12\n"
      ]
    },
    {
      "cell_type": "markdown",
      "metadata": {
        "id": "5cWVEdcwFHa3"
      },
      "source": [
        "### Load Dataset"
      ]
    },
    {
      "cell_type": "code",
      "execution_count": 5,
      "metadata": {
        "colab": {
          "base_uri": "https://localhost:8080/",
          "height": 300
        },
        "id": "LO9Zl_fKFHa5",
        "outputId": "cec820c2-1ca1-45e7-e3e5-cc39911de4ad"
      },
      "outputs": [
        {
          "output_type": "execute_result",
          "data": {
            "text/plain": [
              "   duration protocol_type   service flag  src_bytes  dst_bytes  land  \\\n",
              "0         0           tcp  ftp_data   SF        491          0     0   \n",
              "1         0           udp     other   SF        146          0     0   \n",
              "2         0           tcp   private   S0          0          0     0   \n",
              "3         0           tcp      http   SF        232       8153     0   \n",
              "4         0           tcp      http   SF        199        420     0   \n",
              "\n",
              "   wrong_fragment  urgent  hot  ...  dst_host_same_srv_rate  \\\n",
              "0               0       0    0  ...                    0.17   \n",
              "1               0       0    0  ...                    0.00   \n",
              "2               0       0    0  ...                    0.10   \n",
              "3               0       0    0  ...                    1.00   \n",
              "4               0       0    0  ...                    1.00   \n",
              "\n",
              "   dst_host_diff_srv_rate  dst_host_same_src_port_rate  \\\n",
              "0                    0.03                         0.17   \n",
              "1                    0.60                         0.88   \n",
              "2                    0.05                         0.00   \n",
              "3                    0.00                         0.03   \n",
              "4                    0.00                         0.00   \n",
              "\n",
              "   dst_host_srv_diff_host_rate  dst_host_serror_rate  \\\n",
              "0                         0.00                  0.00   \n",
              "1                         0.00                  0.00   \n",
              "2                         0.00                  1.00   \n",
              "3                         0.04                  0.03   \n",
              "4                         0.00                  0.00   \n",
              "\n",
              "   dst_host_srv_serror_rate  dst_host_rerror_rate  dst_host_srv_rerror_rate  \\\n",
              "0                      0.00                  0.05                      0.00   \n",
              "1                      0.00                  0.00                      0.00   \n",
              "2                      1.00                  0.00                      0.00   \n",
              "3                      0.01                  0.00                      0.01   \n",
              "4                      0.00                  0.00                      0.00   \n",
              "\n",
              "    attack  last_flag  \n",
              "0   normal       20.0  \n",
              "1   normal       15.0  \n",
              "2  neptune       19.0  \n",
              "3   normal       21.0  \n",
              "4   normal       21.0  \n",
              "\n",
              "[5 rows x 43 columns]"
            ],
            "text/html": [
              "\n",
              "  <div id=\"df-1dff0c46-353f-4e80-9c60-83788aed7ee4\">\n",
              "    <div class=\"colab-df-container\">\n",
              "      <div>\n",
              "<style scoped>\n",
              "    .dataframe tbody tr th:only-of-type {\n",
              "        vertical-align: middle;\n",
              "    }\n",
              "\n",
              "    .dataframe tbody tr th {\n",
              "        vertical-align: top;\n",
              "    }\n",
              "\n",
              "    .dataframe thead th {\n",
              "        text-align: right;\n",
              "    }\n",
              "</style>\n",
              "<table border=\"1\" class=\"dataframe\">\n",
              "  <thead>\n",
              "    <tr style=\"text-align: right;\">\n",
              "      <th></th>\n",
              "      <th>duration</th>\n",
              "      <th>protocol_type</th>\n",
              "      <th>service</th>\n",
              "      <th>flag</th>\n",
              "      <th>src_bytes</th>\n",
              "      <th>dst_bytes</th>\n",
              "      <th>land</th>\n",
              "      <th>wrong_fragment</th>\n",
              "      <th>urgent</th>\n",
              "      <th>hot</th>\n",
              "      <th>...</th>\n",
              "      <th>dst_host_same_srv_rate</th>\n",
              "      <th>dst_host_diff_srv_rate</th>\n",
              "      <th>dst_host_same_src_port_rate</th>\n",
              "      <th>dst_host_srv_diff_host_rate</th>\n",
              "      <th>dst_host_serror_rate</th>\n",
              "      <th>dst_host_srv_serror_rate</th>\n",
              "      <th>dst_host_rerror_rate</th>\n",
              "      <th>dst_host_srv_rerror_rate</th>\n",
              "      <th>attack</th>\n",
              "      <th>last_flag</th>\n",
              "    </tr>\n",
              "  </thead>\n",
              "  <tbody>\n",
              "    <tr>\n",
              "      <th>0</th>\n",
              "      <td>0</td>\n",
              "      <td>tcp</td>\n",
              "      <td>ftp_data</td>\n",
              "      <td>SF</td>\n",
              "      <td>491</td>\n",
              "      <td>0</td>\n",
              "      <td>0</td>\n",
              "      <td>0</td>\n",
              "      <td>0</td>\n",
              "      <td>0</td>\n",
              "      <td>...</td>\n",
              "      <td>0.17</td>\n",
              "      <td>0.03</td>\n",
              "      <td>0.17</td>\n",
              "      <td>0.00</td>\n",
              "      <td>0.00</td>\n",
              "      <td>0.00</td>\n",
              "      <td>0.05</td>\n",
              "      <td>0.00</td>\n",
              "      <td>normal</td>\n",
              "      <td>20.0</td>\n",
              "    </tr>\n",
              "    <tr>\n",
              "      <th>1</th>\n",
              "      <td>0</td>\n",
              "      <td>udp</td>\n",
              "      <td>other</td>\n",
              "      <td>SF</td>\n",
              "      <td>146</td>\n",
              "      <td>0</td>\n",
              "      <td>0</td>\n",
              "      <td>0</td>\n",
              "      <td>0</td>\n",
              "      <td>0</td>\n",
              "      <td>...</td>\n",
              "      <td>0.00</td>\n",
              "      <td>0.60</td>\n",
              "      <td>0.88</td>\n",
              "      <td>0.00</td>\n",
              "      <td>0.00</td>\n",
              "      <td>0.00</td>\n",
              "      <td>0.00</td>\n",
              "      <td>0.00</td>\n",
              "      <td>normal</td>\n",
              "      <td>15.0</td>\n",
              "    </tr>\n",
              "    <tr>\n",
              "      <th>2</th>\n",
              "      <td>0</td>\n",
              "      <td>tcp</td>\n",
              "      <td>private</td>\n",
              "      <td>S0</td>\n",
              "      <td>0</td>\n",
              "      <td>0</td>\n",
              "      <td>0</td>\n",
              "      <td>0</td>\n",
              "      <td>0</td>\n",
              "      <td>0</td>\n",
              "      <td>...</td>\n",
              "      <td>0.10</td>\n",
              "      <td>0.05</td>\n",
              "      <td>0.00</td>\n",
              "      <td>0.00</td>\n",
              "      <td>1.00</td>\n",
              "      <td>1.00</td>\n",
              "      <td>0.00</td>\n",
              "      <td>0.00</td>\n",
              "      <td>neptune</td>\n",
              "      <td>19.0</td>\n",
              "    </tr>\n",
              "    <tr>\n",
              "      <th>3</th>\n",
              "      <td>0</td>\n",
              "      <td>tcp</td>\n",
              "      <td>http</td>\n",
              "      <td>SF</td>\n",
              "      <td>232</td>\n",
              "      <td>8153</td>\n",
              "      <td>0</td>\n",
              "      <td>0</td>\n",
              "      <td>0</td>\n",
              "      <td>0</td>\n",
              "      <td>...</td>\n",
              "      <td>1.00</td>\n",
              "      <td>0.00</td>\n",
              "      <td>0.03</td>\n",
              "      <td>0.04</td>\n",
              "      <td>0.03</td>\n",
              "      <td>0.01</td>\n",
              "      <td>0.00</td>\n",
              "      <td>0.01</td>\n",
              "      <td>normal</td>\n",
              "      <td>21.0</td>\n",
              "    </tr>\n",
              "    <tr>\n",
              "      <th>4</th>\n",
              "      <td>0</td>\n",
              "      <td>tcp</td>\n",
              "      <td>http</td>\n",
              "      <td>SF</td>\n",
              "      <td>199</td>\n",
              "      <td>420</td>\n",
              "      <td>0</td>\n",
              "      <td>0</td>\n",
              "      <td>0</td>\n",
              "      <td>0</td>\n",
              "      <td>...</td>\n",
              "      <td>1.00</td>\n",
              "      <td>0.00</td>\n",
              "      <td>0.00</td>\n",
              "      <td>0.00</td>\n",
              "      <td>0.00</td>\n",
              "      <td>0.00</td>\n",
              "      <td>0.00</td>\n",
              "      <td>0.00</td>\n",
              "      <td>normal</td>\n",
              "      <td>21.0</td>\n",
              "    </tr>\n",
              "  </tbody>\n",
              "</table>\n",
              "<p>5 rows × 43 columns</p>\n",
              "</div>\n",
              "      <button class=\"colab-df-convert\" onclick=\"convertToInteractive('df-1dff0c46-353f-4e80-9c60-83788aed7ee4')\"\n",
              "              title=\"Convert this dataframe to an interactive table.\"\n",
              "              style=\"display:none;\">\n",
              "        \n",
              "  <svg xmlns=\"http://www.w3.org/2000/svg\" height=\"24px\"viewBox=\"0 0 24 24\"\n",
              "       width=\"24px\">\n",
              "    <path d=\"M0 0h24v24H0V0z\" fill=\"none\"/>\n",
              "    <path d=\"M18.56 5.44l.94 2.06.94-2.06 2.06-.94-2.06-.94-.94-2.06-.94 2.06-2.06.94zm-11 1L8.5 8.5l.94-2.06 2.06-.94-2.06-.94L8.5 2.5l-.94 2.06-2.06.94zm10 10l.94 2.06.94-2.06 2.06-.94-2.06-.94-.94-2.06-.94 2.06-2.06.94z\"/><path d=\"M17.41 7.96l-1.37-1.37c-.4-.4-.92-.59-1.43-.59-.52 0-1.04.2-1.43.59L10.3 9.45l-7.72 7.72c-.78.78-.78 2.05 0 2.83L4 21.41c.39.39.9.59 1.41.59.51 0 1.02-.2 1.41-.59l7.78-7.78 2.81-2.81c.8-.78.8-2.07 0-2.86zM5.41 20L4 18.59l7.72-7.72 1.47 1.35L5.41 20z\"/>\n",
              "  </svg>\n",
              "      </button>\n",
              "      \n",
              "  <style>\n",
              "    .colab-df-container {\n",
              "      display:flex;\n",
              "      flex-wrap:wrap;\n",
              "      gap: 12px;\n",
              "    }\n",
              "\n",
              "    .colab-df-convert {\n",
              "      background-color: #E8F0FE;\n",
              "      border: none;\n",
              "      border-radius: 50%;\n",
              "      cursor: pointer;\n",
              "      display: none;\n",
              "      fill: #1967D2;\n",
              "      height: 32px;\n",
              "      padding: 0 0 0 0;\n",
              "      width: 32px;\n",
              "    }\n",
              "\n",
              "    .colab-df-convert:hover {\n",
              "      background-color: #E2EBFA;\n",
              "      box-shadow: 0px 1px 2px rgba(60, 64, 67, 0.3), 0px 1px 3px 1px rgba(60, 64, 67, 0.15);\n",
              "      fill: #174EA6;\n",
              "    }\n",
              "\n",
              "    [theme=dark] .colab-df-convert {\n",
              "      background-color: #3B4455;\n",
              "      fill: #D2E3FC;\n",
              "    }\n",
              "\n",
              "    [theme=dark] .colab-df-convert:hover {\n",
              "      background-color: #434B5C;\n",
              "      box-shadow: 0px 1px 3px 1px rgba(0, 0, 0, 0.15);\n",
              "      filter: drop-shadow(0px 1px 2px rgba(0, 0, 0, 0.3));\n",
              "      fill: #FFFFFF;\n",
              "    }\n",
              "  </style>\n",
              "\n",
              "      <script>\n",
              "        const buttonEl =\n",
              "          document.querySelector('#df-1dff0c46-353f-4e80-9c60-83788aed7ee4 button.colab-df-convert');\n",
              "        buttonEl.style.display =\n",
              "          google.colab.kernel.accessAllowed ? 'block' : 'none';\n",
              "\n",
              "        async function convertToInteractive(key) {\n",
              "          const element = document.querySelector('#df-1dff0c46-353f-4e80-9c60-83788aed7ee4');\n",
              "          const dataTable =\n",
              "            await google.colab.kernel.invokeFunction('convertToInteractive',\n",
              "                                                     [key], {});\n",
              "          if (!dataTable) return;\n",
              "\n",
              "          const docLinkHtml = 'Like what you see? Visit the ' +\n",
              "            '<a target=\"_blank\" href=https://colab.research.google.com/notebooks/data_table.ipynb>data table notebook</a>'\n",
              "            + ' to learn more about interactive tables.';\n",
              "          element.innerHTML = '';\n",
              "          dataTable['output_type'] = 'display_data';\n",
              "          await google.colab.output.renderOutput(dataTable, element);\n",
              "          const docLink = document.createElement('div');\n",
              "          docLink.innerHTML = docLinkHtml;\n",
              "          element.appendChild(docLink);\n",
              "        }\n",
              "      </script>\n",
              "    </div>\n",
              "  </div>\n",
              "  "
            ]
          },
          "metadata": {},
          "execution_count": 5
        }
      ],
      "source": [
        "# Dataset field names\n",
        "data_Columns = [\"duration\",\"protocol_type\",\"service\",\"flag\",\"src_bytes\",\n",
        "    \"dst_bytes\",\"land\",\"wrong_fragment\",\"urgent\",\"hot\",\"num_failed_logins\",\n",
        "    \"logged_in\",\"num_compromised\",\"root_shell\",\"su_attempted\",\"num_root\",\n",
        "    \"num_file_creations\",\"num_shells\",\"num_access_files\",\"num_outbound_cmds\",\n",
        "    \"is_host_login\",\"is_guest_login\",\"count\",\"srv_count\",\"serror_rate\",\n",
        "    \"srv_serror_rate\",\"rerror_rate\",\"srv_rerror_rate\",\"same_srv_rate\",\n",
        "    \"diff_srv_rate\",\"srv_diff_host_rate\",\"dst_host_count\",\"dst_host_srv_count\",\n",
        "    \"dst_host_same_srv_rate\",\"dst_host_diff_srv_rate\",\"dst_host_same_src_port_rate\",\n",
        "    \"dst_host_srv_diff_host_rate\",\"dst_host_serror_rate\",\"dst_host_srv_serror_rate\",\n",
        "    \"dst_host_rerror_rate\",\"dst_host_srv_rerror_rate\",\"attack\", \"last_flag\"]\n",
        "\n",
        "# Load NSL_KDD train dataset\n",
        "KDD_train = pd.read_table(\"/content/sample_data/KDDTrain+.txt\", sep=\",\", names=data_Columns)\n",
        "\n",
        "# Peak at the first 5 records.\n",
        "KDD_train.head()"
      ]
    },
    {
      "cell_type": "code",
      "execution_count": null,
      "metadata": {
        "id": "mLJTcByDFHa8",
        "outputId": "37a09165-f113-459e-c77b-b73fcfa87938"
      },
      "outputs": [
        {
          "data": {
            "text/plain": [
              "(125973, 43)"
            ]
          },
          "execution_count": 3,
          "metadata": {},
          "output_type": "execute_result"
        }
      ],
      "source": [
        "KDD_train.shape"
      ]
    },
    {
      "cell_type": "code",
      "execution_count": null,
      "metadata": {
        "id": "esXXFtI2FHa-",
        "outputId": "5bac453c-d476-4e0d-b41e-7ae8e6a6fbb8"
      },
      "outputs": [
        {
          "data": {
            "text/html": [
              "<div>\n",
              "<style scoped>\n",
              "    .dataframe tbody tr th:only-of-type {\n",
              "        vertical-align: middle;\n",
              "    }\n",
              "\n",
              "    .dataframe tbody tr th {\n",
              "        vertical-align: top;\n",
              "    }\n",
              "\n",
              "    .dataframe thead th {\n",
              "        text-align: right;\n",
              "    }\n",
              "</style>\n",
              "<table border=\"1\" class=\"dataframe\">\n",
              "  <thead>\n",
              "    <tr style=\"text-align: right;\">\n",
              "      <th></th>\n",
              "      <th>duration</th>\n",
              "      <th>protocol_type</th>\n",
              "      <th>service</th>\n",
              "      <th>flag</th>\n",
              "      <th>src_bytes</th>\n",
              "      <th>dst_bytes</th>\n",
              "      <th>land</th>\n",
              "      <th>wrong_fragment</th>\n",
              "      <th>urgent</th>\n",
              "      <th>hot</th>\n",
              "      <th>...</th>\n",
              "      <th>dst_host_srv_count</th>\n",
              "      <th>dst_host_same_srv_rate</th>\n",
              "      <th>dst_host_diff_srv_rate</th>\n",
              "      <th>dst_host_same_src_port_rate</th>\n",
              "      <th>dst_host_srv_diff_host_rate</th>\n",
              "      <th>dst_host_serror_rate</th>\n",
              "      <th>dst_host_srv_serror_rate</th>\n",
              "      <th>dst_host_rerror_rate</th>\n",
              "      <th>dst_host_srv_rerror_rate</th>\n",
              "      <th>attack</th>\n",
              "    </tr>\n",
              "  </thead>\n",
              "  <tbody>\n",
              "    <tr>\n",
              "      <th>0</th>\n",
              "      <td>0</td>\n",
              "      <td>tcp</td>\n",
              "      <td>ftp_data</td>\n",
              "      <td>SF</td>\n",
              "      <td>491</td>\n",
              "      <td>0</td>\n",
              "      <td>0</td>\n",
              "      <td>0</td>\n",
              "      <td>0</td>\n",
              "      <td>0</td>\n",
              "      <td>...</td>\n",
              "      <td>25</td>\n",
              "      <td>0.17</td>\n",
              "      <td>0.03</td>\n",
              "      <td>0.17</td>\n",
              "      <td>0.00</td>\n",
              "      <td>0.00</td>\n",
              "      <td>0.00</td>\n",
              "      <td>0.05</td>\n",
              "      <td>0.00</td>\n",
              "      <td>normal</td>\n",
              "    </tr>\n",
              "    <tr>\n",
              "      <th>1</th>\n",
              "      <td>0</td>\n",
              "      <td>udp</td>\n",
              "      <td>other</td>\n",
              "      <td>SF</td>\n",
              "      <td>146</td>\n",
              "      <td>0</td>\n",
              "      <td>0</td>\n",
              "      <td>0</td>\n",
              "      <td>0</td>\n",
              "      <td>0</td>\n",
              "      <td>...</td>\n",
              "      <td>1</td>\n",
              "      <td>0.00</td>\n",
              "      <td>0.60</td>\n",
              "      <td>0.88</td>\n",
              "      <td>0.00</td>\n",
              "      <td>0.00</td>\n",
              "      <td>0.00</td>\n",
              "      <td>0.00</td>\n",
              "      <td>0.00</td>\n",
              "      <td>normal</td>\n",
              "    </tr>\n",
              "    <tr>\n",
              "      <th>2</th>\n",
              "      <td>0</td>\n",
              "      <td>tcp</td>\n",
              "      <td>private</td>\n",
              "      <td>S0</td>\n",
              "      <td>0</td>\n",
              "      <td>0</td>\n",
              "      <td>0</td>\n",
              "      <td>0</td>\n",
              "      <td>0</td>\n",
              "      <td>0</td>\n",
              "      <td>...</td>\n",
              "      <td>26</td>\n",
              "      <td>0.10</td>\n",
              "      <td>0.05</td>\n",
              "      <td>0.00</td>\n",
              "      <td>0.00</td>\n",
              "      <td>1.00</td>\n",
              "      <td>1.00</td>\n",
              "      <td>0.00</td>\n",
              "      <td>0.00</td>\n",
              "      <td>neptune</td>\n",
              "    </tr>\n",
              "    <tr>\n",
              "      <th>3</th>\n",
              "      <td>0</td>\n",
              "      <td>tcp</td>\n",
              "      <td>http</td>\n",
              "      <td>SF</td>\n",
              "      <td>232</td>\n",
              "      <td>8153</td>\n",
              "      <td>0</td>\n",
              "      <td>0</td>\n",
              "      <td>0</td>\n",
              "      <td>0</td>\n",
              "      <td>...</td>\n",
              "      <td>255</td>\n",
              "      <td>1.00</td>\n",
              "      <td>0.00</td>\n",
              "      <td>0.03</td>\n",
              "      <td>0.04</td>\n",
              "      <td>0.03</td>\n",
              "      <td>0.01</td>\n",
              "      <td>0.00</td>\n",
              "      <td>0.01</td>\n",
              "      <td>normal</td>\n",
              "    </tr>\n",
              "    <tr>\n",
              "      <th>4</th>\n",
              "      <td>0</td>\n",
              "      <td>tcp</td>\n",
              "      <td>http</td>\n",
              "      <td>SF</td>\n",
              "      <td>199</td>\n",
              "      <td>420</td>\n",
              "      <td>0</td>\n",
              "      <td>0</td>\n",
              "      <td>0</td>\n",
              "      <td>0</td>\n",
              "      <td>...</td>\n",
              "      <td>255</td>\n",
              "      <td>1.00</td>\n",
              "      <td>0.00</td>\n",
              "      <td>0.00</td>\n",
              "      <td>0.00</td>\n",
              "      <td>0.00</td>\n",
              "      <td>0.00</td>\n",
              "      <td>0.00</td>\n",
              "      <td>0.00</td>\n",
              "      <td>normal</td>\n",
              "    </tr>\n",
              "  </tbody>\n",
              "</table>\n",
              "<p>5 rows × 42 columns</p>\n",
              "</div>"
            ],
            "text/plain": [
              "   duration protocol_type   service flag  src_bytes  dst_bytes  land  \\\n",
              "0         0           tcp  ftp_data   SF        491          0     0   \n",
              "1         0           udp     other   SF        146          0     0   \n",
              "2         0           tcp   private   S0          0          0     0   \n",
              "3         0           tcp      http   SF        232       8153     0   \n",
              "4         0           tcp      http   SF        199        420     0   \n",
              "\n",
              "   wrong_fragment  urgent  hot  ...  dst_host_srv_count  \\\n",
              "0               0       0    0  ...                  25   \n",
              "1               0       0    0  ...                   1   \n",
              "2               0       0    0  ...                  26   \n",
              "3               0       0    0  ...                 255   \n",
              "4               0       0    0  ...                 255   \n",
              "\n",
              "   dst_host_same_srv_rate  dst_host_diff_srv_rate  \\\n",
              "0                    0.17                    0.03   \n",
              "1                    0.00                    0.60   \n",
              "2                    0.10                    0.05   \n",
              "3                    1.00                    0.00   \n",
              "4                    1.00                    0.00   \n",
              "\n",
              "   dst_host_same_src_port_rate  dst_host_srv_diff_host_rate  \\\n",
              "0                         0.17                         0.00   \n",
              "1                         0.88                         0.00   \n",
              "2                         0.00                         0.00   \n",
              "3                         0.03                         0.04   \n",
              "4                         0.00                         0.00   \n",
              "\n",
              "   dst_host_serror_rate  dst_host_srv_serror_rate  dst_host_rerror_rate  \\\n",
              "0                  0.00                      0.00                  0.05   \n",
              "1                  0.00                      0.00                  0.00   \n",
              "2                  1.00                      1.00                  0.00   \n",
              "3                  0.03                      0.01                  0.00   \n",
              "4                  0.00                      0.00                  0.00   \n",
              "\n",
              "   dst_host_srv_rerror_rate   attack  \n",
              "0                      0.00   normal  \n",
              "1                      0.00   normal  \n",
              "2                      0.00  neptune  \n",
              "3                      0.01   normal  \n",
              "4                      0.00   normal  \n",
              "\n",
              "[5 rows x 42 columns]"
            ]
          },
          "execution_count": 4,
          "metadata": {},
          "output_type": "execute_result"
        }
      ],
      "source": [
        "# removes an unwanted extra field\n",
        "KDD_train = KDD_train.iloc[:,:-1] \n",
        "KDD_train.head()"
      ]
    },
    {
      "cell_type": "code",
      "execution_count": 6,
      "metadata": {
        "colab": {
          "base_uri": "https://localhost:8080/",
          "height": 300
        },
        "id": "uQ-8eopMFHa_",
        "outputId": "7d004089-e001-4e92-b643-8f8c3c302315"
      },
      "outputs": [
        {
          "output_type": "execute_result",
          "data": {
            "text/plain": [
              "   duration protocol_type   service  flag  src_bytes  dst_bytes  land  \\\n",
              "0         0           tcp   private   REJ          0          0     0   \n",
              "1         0           tcp   private   REJ          0          0     0   \n",
              "2         2           tcp  ftp_data    SF      12983          0     0   \n",
              "3         0          icmp     eco_i    SF         20          0     0   \n",
              "4         1           tcp    telnet  RSTO          0         15     0   \n",
              "\n",
              "   wrong_fragment  urgent  hot  ...  dst_host_srv_count  \\\n",
              "0               0       0    0  ...                  10   \n",
              "1               0       0    0  ...                   1   \n",
              "2               0       0    0  ...                  86   \n",
              "3               0       0    0  ...                  57   \n",
              "4               0       0    0  ...                  86   \n",
              "\n",
              "   dst_host_same_srv_rate  dst_host_diff_srv_rate  \\\n",
              "0                    0.04                    0.06   \n",
              "1                    0.00                    0.06   \n",
              "2                    0.61                    0.04   \n",
              "3                    1.00                    0.00   \n",
              "4                    0.31                    0.17   \n",
              "\n",
              "   dst_host_same_src_port_rate  dst_host_srv_diff_host_rate  \\\n",
              "0                         0.00                         0.00   \n",
              "1                         0.00                         0.00   \n",
              "2                         0.61                         0.02   \n",
              "3                         1.00                         0.28   \n",
              "4                         0.03                         0.02   \n",
              "\n",
              "   dst_host_serror_rate  dst_host_srv_serror_rate  dst_host_rerror_rate  \\\n",
              "0                   0.0                       0.0                  1.00   \n",
              "1                   0.0                       0.0                  1.00   \n",
              "2                   0.0                       0.0                  0.00   \n",
              "3                   0.0                       0.0                  0.00   \n",
              "4                   0.0                       0.0                  0.83   \n",
              "\n",
              "   dst_host_srv_rerror_rate   attack  \n",
              "0                      1.00  neptune  \n",
              "1                      1.00  neptune  \n",
              "2                      0.00   normal  \n",
              "3                      0.00    saint  \n",
              "4                      0.71    mscan  \n",
              "\n",
              "[5 rows x 42 columns]"
            ],
            "text/html": [
              "\n",
              "  <div id=\"df-337d4025-8d95-49ac-9df2-206cea0bd75a\">\n",
              "    <div class=\"colab-df-container\">\n",
              "      <div>\n",
              "<style scoped>\n",
              "    .dataframe tbody tr th:only-of-type {\n",
              "        vertical-align: middle;\n",
              "    }\n",
              "\n",
              "    .dataframe tbody tr th {\n",
              "        vertical-align: top;\n",
              "    }\n",
              "\n",
              "    .dataframe thead th {\n",
              "        text-align: right;\n",
              "    }\n",
              "</style>\n",
              "<table border=\"1\" class=\"dataframe\">\n",
              "  <thead>\n",
              "    <tr style=\"text-align: right;\">\n",
              "      <th></th>\n",
              "      <th>duration</th>\n",
              "      <th>protocol_type</th>\n",
              "      <th>service</th>\n",
              "      <th>flag</th>\n",
              "      <th>src_bytes</th>\n",
              "      <th>dst_bytes</th>\n",
              "      <th>land</th>\n",
              "      <th>wrong_fragment</th>\n",
              "      <th>urgent</th>\n",
              "      <th>hot</th>\n",
              "      <th>...</th>\n",
              "      <th>dst_host_srv_count</th>\n",
              "      <th>dst_host_same_srv_rate</th>\n",
              "      <th>dst_host_diff_srv_rate</th>\n",
              "      <th>dst_host_same_src_port_rate</th>\n",
              "      <th>dst_host_srv_diff_host_rate</th>\n",
              "      <th>dst_host_serror_rate</th>\n",
              "      <th>dst_host_srv_serror_rate</th>\n",
              "      <th>dst_host_rerror_rate</th>\n",
              "      <th>dst_host_srv_rerror_rate</th>\n",
              "      <th>attack</th>\n",
              "    </tr>\n",
              "  </thead>\n",
              "  <tbody>\n",
              "    <tr>\n",
              "      <th>0</th>\n",
              "      <td>0</td>\n",
              "      <td>tcp</td>\n",
              "      <td>private</td>\n",
              "      <td>REJ</td>\n",
              "      <td>0</td>\n",
              "      <td>0</td>\n",
              "      <td>0</td>\n",
              "      <td>0</td>\n",
              "      <td>0</td>\n",
              "      <td>0</td>\n",
              "      <td>...</td>\n",
              "      <td>10</td>\n",
              "      <td>0.04</td>\n",
              "      <td>0.06</td>\n",
              "      <td>0.00</td>\n",
              "      <td>0.00</td>\n",
              "      <td>0.0</td>\n",
              "      <td>0.0</td>\n",
              "      <td>1.00</td>\n",
              "      <td>1.00</td>\n",
              "      <td>neptune</td>\n",
              "    </tr>\n",
              "    <tr>\n",
              "      <th>1</th>\n",
              "      <td>0</td>\n",
              "      <td>tcp</td>\n",
              "      <td>private</td>\n",
              "      <td>REJ</td>\n",
              "      <td>0</td>\n",
              "      <td>0</td>\n",
              "      <td>0</td>\n",
              "      <td>0</td>\n",
              "      <td>0</td>\n",
              "      <td>0</td>\n",
              "      <td>...</td>\n",
              "      <td>1</td>\n",
              "      <td>0.00</td>\n",
              "      <td>0.06</td>\n",
              "      <td>0.00</td>\n",
              "      <td>0.00</td>\n",
              "      <td>0.0</td>\n",
              "      <td>0.0</td>\n",
              "      <td>1.00</td>\n",
              "      <td>1.00</td>\n",
              "      <td>neptune</td>\n",
              "    </tr>\n",
              "    <tr>\n",
              "      <th>2</th>\n",
              "      <td>2</td>\n",
              "      <td>tcp</td>\n",
              "      <td>ftp_data</td>\n",
              "      <td>SF</td>\n",
              "      <td>12983</td>\n",
              "      <td>0</td>\n",
              "      <td>0</td>\n",
              "      <td>0</td>\n",
              "      <td>0</td>\n",
              "      <td>0</td>\n",
              "      <td>...</td>\n",
              "      <td>86</td>\n",
              "      <td>0.61</td>\n",
              "      <td>0.04</td>\n",
              "      <td>0.61</td>\n",
              "      <td>0.02</td>\n",
              "      <td>0.0</td>\n",
              "      <td>0.0</td>\n",
              "      <td>0.00</td>\n",
              "      <td>0.00</td>\n",
              "      <td>normal</td>\n",
              "    </tr>\n",
              "    <tr>\n",
              "      <th>3</th>\n",
              "      <td>0</td>\n",
              "      <td>icmp</td>\n",
              "      <td>eco_i</td>\n",
              "      <td>SF</td>\n",
              "      <td>20</td>\n",
              "      <td>0</td>\n",
              "      <td>0</td>\n",
              "      <td>0</td>\n",
              "      <td>0</td>\n",
              "      <td>0</td>\n",
              "      <td>...</td>\n",
              "      <td>57</td>\n",
              "      <td>1.00</td>\n",
              "      <td>0.00</td>\n",
              "      <td>1.00</td>\n",
              "      <td>0.28</td>\n",
              "      <td>0.0</td>\n",
              "      <td>0.0</td>\n",
              "      <td>0.00</td>\n",
              "      <td>0.00</td>\n",
              "      <td>saint</td>\n",
              "    </tr>\n",
              "    <tr>\n",
              "      <th>4</th>\n",
              "      <td>1</td>\n",
              "      <td>tcp</td>\n",
              "      <td>telnet</td>\n",
              "      <td>RSTO</td>\n",
              "      <td>0</td>\n",
              "      <td>15</td>\n",
              "      <td>0</td>\n",
              "      <td>0</td>\n",
              "      <td>0</td>\n",
              "      <td>0</td>\n",
              "      <td>...</td>\n",
              "      <td>86</td>\n",
              "      <td>0.31</td>\n",
              "      <td>0.17</td>\n",
              "      <td>0.03</td>\n",
              "      <td>0.02</td>\n",
              "      <td>0.0</td>\n",
              "      <td>0.0</td>\n",
              "      <td>0.83</td>\n",
              "      <td>0.71</td>\n",
              "      <td>mscan</td>\n",
              "    </tr>\n",
              "  </tbody>\n",
              "</table>\n",
              "<p>5 rows × 42 columns</p>\n",
              "</div>\n",
              "      <button class=\"colab-df-convert\" onclick=\"convertToInteractive('df-337d4025-8d95-49ac-9df2-206cea0bd75a')\"\n",
              "              title=\"Convert this dataframe to an interactive table.\"\n",
              "              style=\"display:none;\">\n",
              "        \n",
              "  <svg xmlns=\"http://www.w3.org/2000/svg\" height=\"24px\"viewBox=\"0 0 24 24\"\n",
              "       width=\"24px\">\n",
              "    <path d=\"M0 0h24v24H0V0z\" fill=\"none\"/>\n",
              "    <path d=\"M18.56 5.44l.94 2.06.94-2.06 2.06-.94-2.06-.94-.94-2.06-.94 2.06-2.06.94zm-11 1L8.5 8.5l.94-2.06 2.06-.94-2.06-.94L8.5 2.5l-.94 2.06-2.06.94zm10 10l.94 2.06.94-2.06 2.06-.94-2.06-.94-.94-2.06-.94 2.06-2.06.94z\"/><path d=\"M17.41 7.96l-1.37-1.37c-.4-.4-.92-.59-1.43-.59-.52 0-1.04.2-1.43.59L10.3 9.45l-7.72 7.72c-.78.78-.78 2.05 0 2.83L4 21.41c.39.39.9.59 1.41.59.51 0 1.02-.2 1.41-.59l7.78-7.78 2.81-2.81c.8-.78.8-2.07 0-2.86zM5.41 20L4 18.59l7.72-7.72 1.47 1.35L5.41 20z\"/>\n",
              "  </svg>\n",
              "      </button>\n",
              "      \n",
              "  <style>\n",
              "    .colab-df-container {\n",
              "      display:flex;\n",
              "      flex-wrap:wrap;\n",
              "      gap: 12px;\n",
              "    }\n",
              "\n",
              "    .colab-df-convert {\n",
              "      background-color: #E8F0FE;\n",
              "      border: none;\n",
              "      border-radius: 50%;\n",
              "      cursor: pointer;\n",
              "      display: none;\n",
              "      fill: #1967D2;\n",
              "      height: 32px;\n",
              "      padding: 0 0 0 0;\n",
              "      width: 32px;\n",
              "    }\n",
              "\n",
              "    .colab-df-convert:hover {\n",
              "      background-color: #E2EBFA;\n",
              "      box-shadow: 0px 1px 2px rgba(60, 64, 67, 0.3), 0px 1px 3px 1px rgba(60, 64, 67, 0.15);\n",
              "      fill: #174EA6;\n",
              "    }\n",
              "\n",
              "    [theme=dark] .colab-df-convert {\n",
              "      background-color: #3B4455;\n",
              "      fill: #D2E3FC;\n",
              "    }\n",
              "\n",
              "    [theme=dark] .colab-df-convert:hover {\n",
              "      background-color: #434B5C;\n",
              "      box-shadow: 0px 1px 3px 1px rgba(0, 0, 0, 0.15);\n",
              "      filter: drop-shadow(0px 1px 2px rgba(0, 0, 0, 0.3));\n",
              "      fill: #FFFFFF;\n",
              "    }\n",
              "  </style>\n",
              "\n",
              "      <script>\n",
              "        const buttonEl =\n",
              "          document.querySelector('#df-337d4025-8d95-49ac-9df2-206cea0bd75a button.colab-df-convert');\n",
              "        buttonEl.style.display =\n",
              "          google.colab.kernel.accessAllowed ? 'block' : 'none';\n",
              "\n",
              "        async function convertToInteractive(key) {\n",
              "          const element = document.querySelector('#df-337d4025-8d95-49ac-9df2-206cea0bd75a');\n",
              "          const dataTable =\n",
              "            await google.colab.kernel.invokeFunction('convertToInteractive',\n",
              "                                                     [key], {});\n",
              "          if (!dataTable) return;\n",
              "\n",
              "          const docLinkHtml = 'Like what you see? Visit the ' +\n",
              "            '<a target=\"_blank\" href=https://colab.research.google.com/notebooks/data_table.ipynb>data table notebook</a>'\n",
              "            + ' to learn more about interactive tables.';\n",
              "          element.innerHTML = '';\n",
              "          dataTable['output_type'] = 'display_data';\n",
              "          await google.colab.output.renderOutput(dataTable, element);\n",
              "          const docLink = document.createElement('div');\n",
              "          docLink.innerHTML = docLinkHtml;\n",
              "          element.appendChild(docLink);\n",
              "        }\n",
              "      </script>\n",
              "    </div>\n",
              "  </div>\n",
              "  "
            ]
          },
          "metadata": {},
          "execution_count": 6
        }
      ],
      "source": [
        "# Load NSL_KDD test dataset\n",
        "\n",
        "KDD_test = pd.read_table(\"/content/sample_data/KDDTest+.txt\", sep=\",\", names=data_Columns)\n",
        "KDD_test = KDD_test.iloc[:,:-1]\n",
        "KDD_test.head()"
      ]
    },
    {
      "cell_type": "code",
      "execution_count": null,
      "metadata": {
        "id": "ISGrrdfoFHbB",
        "outputId": "49bad178-8282-4397-af8e-df772914f578"
      },
      "outputs": [
        {
          "name": "stdout",
          "output_type": "stream",
          "text": [
            "Training set dimension: 125973 rows, 42 columns\n",
            "Testing set dimension: 22544 rows, 42 columns\n"
          ]
        }
      ],
      "source": [
        "# Data dimensions\n",
        "print('Training set dimension: {} rows, {} columns'.format(KDD_train.shape[0], KDD_train.shape[1]))\n",
        "print('Testing set dimension: {} rows, {} columns'.format(KDD_test.shape[0], KDD_test.shape[1]))"
      ]
    },
    {
      "cell_type": "markdown",
      "metadata": {
        "id": "EvOauh3DFHbC"
      },
      "source": [
        "- Check for missing values"
      ]
    },
    {
      "cell_type": "code",
      "execution_count": null,
      "metadata": {
        "id": "fNQuT3YBFHbC",
        "outputId": "920ae96a-3ad2-41eb-b444-d5248d28f31d"
      },
      "outputs": [
        {
          "name": "stdout",
          "output_type": "stream",
          "text": [
            "0\n",
            "0\n"
          ]
        }
      ],
      "source": [
        "print(KDD_train.isnull().sum().sum())\n",
        "print(KDD_test.isnull().sum().sum())"
      ]
    },
    {
      "cell_type": "markdown",
      "metadata": {
        "id": "nqbK4I6wFHbD"
      },
      "source": [
        "# Data Preprocessing"
      ]
    },
    {
      "cell_type": "code",
      "execution_count": null,
      "metadata": {
        "id": "uWTF0ASoFHbD",
        "outputId": "7ee34eed-2d7e-4d06-84df-a9fd0287408e"
      },
      "outputs": [
        {
          "data": {
            "image/png": "[encoded data removed]",
            "text/plain": [
              "<Figure size 1008x432 with 1 Axes>"
            ]
          },
          "metadata": {},
          "output_type": "display_data"
        }
      ],
      "source": [
        "# Check for attack types onn train data\n",
        "\n",
        "(KDD_train['attack'].value_counts()).plot(kind='bar', figsize=(14, 6))\n",
        "plt.title('Attack types of train data')\n",
        "plt.show()"
      ]
    },
    {
      "cell_type": "markdown",
      "metadata": {
        "id": "C-vzL2q1FHbE"
      },
      "source": [
        "It can be seen from the visualization graphs of attack types of both train data and test data that the smurf has the largest number of all the attacks typs, and it belongs to the attack category of DOS. The second is the normal, and then neptune."
      ]
    },
    {
      "cell_type": "markdown",
      "metadata": {
        "id": "5aA-56sTFHbE"
      },
      "source": [
        "### Mapping attack fields to attack class"
      ]
    },
    {
      "cell_type": "markdown",
      "metadata": {
        "id": "dnsBqpngFHbF"
      },
      "source": [
        "These attacks can be described as follows:\n",
        "\n",
        "**Denial of Service Attack: DOS** is a kind of attack in which involves dispatching a large number of\n",
        "requests to a particular website or server and that server will not be able to handle that number of\n",
        "enormous requests and eventually, the server crashes and the website might be offline for several days.\n",
        "\n",
        "\n",
        "**User to Root Attack: U2R** is a segment of exploit in which first the attacker starts with getting access\n",
        "of a normal account on the desired system whether by sniffing into passwords of someone else or by\n",
        "some other way and then locate any kind of vulnerabilities present to get the Root access of the system.\n",
        "\n",
        "\n",
        "**Remote to Local Attack: R2L** - When an attacker does not have a direct access or any account in the system\n",
        "but they have the ability to send malicious data packets the desired machine over a network so that\n",
        "they can locate all kinds of vulnerabilities to get a local access as a legitimate user of that system. This\n",
        "kind of attack is termed as Remote to Local Attack.\n",
        "\n",
        "\n",
        "**Probing Attack: Probe** - When an attacker tries to collect all the information about all the computers\n",
        "connected in a network for the evident purpose and tampering the security controls then these kinds of\n",
        "attacks are categorized into Probe attack. "
      ]
    },
    {
      "cell_type": "code",
      "execution_count": null,
      "metadata": {
        "id": "F2ot-nuJFHbF",
        "outputId": "7d5533f4-0ee1-4d99-a474-3a639d576cb2"
      },
      "outputs": [
        {
          "data": {
            "text/plain": [
              "array(['neptune', 'normal', 'saint', 'mscan', 'guess_passwd', 'smurf',\n",
              "       'apache2', 'satan', 'buffer_overflow', 'back', 'warezmaster',\n",
              "       'snmpgetattack', 'processtable', 'pod', 'httptunnel', 'nmap', 'ps',\n",
              "       'snmpguess', 'ipsweep', 'mailbomb', 'portsweep', 'multihop',\n",
              "       'named', 'sendmail', 'loadmodule', 'xterm', 'worm', 'teardrop',\n",
              "       'rootkit', 'xlock', 'perl', 'land', 'xsnoop', 'sqlattack',\n",
              "       'ftp_write', 'imap', 'udpstorm', 'phf'], dtype=object)"
            ]
          },
          "execution_count": 9,
          "metadata": {},
          "output_type": "execute_result"
        }
      ],
      "source": [
        "KDD_test['attack'].unique()"
      ]
    },
    {
      "cell_type": "code",
      "execution_count": null,
      "metadata": {
        "id": "evatIQ8DFHbG"
      },
      "outputs": [],
      "source": [
        "class_mapping = {'ipsweep': 'Probe','satan': 'Probe','nmap': 'Probe','portsweep': 'Probe','saint': 'Probe','mscan': 'Probe',\n",
        "        'teardrop': 'DoS','pod': 'DoS','land': 'DoS','back': 'DoS','neptune': 'DoS','smurf': 'DoS','mailbomb': 'DoS',\n",
        "        'udpstorm': 'DoS','apache2': 'DoS','processtable': 'DoS',\n",
        "        'perl': 'U2R','loadmodule': 'U2R','rootkit': 'U2R','buffer_overflow': 'U2R','xterm': 'U2R','ps': 'U2R',\n",
        "        'sqlattack': 'U2R','httptunnel': 'U2R',\n",
        "        'ftp_write': 'R2L','phf': 'R2L','guess_passwd': 'R2L','warezmaster': 'R2L','warezclient': 'R2L','imap': 'R2L',\n",
        "        'spy': 'R2L','multihop': 'R2L','named': 'R2L','snmpguess': 'R2L','worm': 'R2L','snmpgetattack': 'R2L',\n",
        "        'xsnoop': 'R2L','xlock': 'R2L','sendmail': 'R2L',\n",
        "        'normal': 'Normal'\n",
        "        }"
      ]
    },
    {
      "cell_type": "markdown",
      "metadata": {
        "id": "NE7iWtgeFHbG"
      },
      "source": [
        "Apply attack class_mappings to the respective datasets."
      ]
    },
    {
      "cell_type": "code",
      "execution_count": null,
      "metadata": {
        "id": "z_q8JylhFHbH",
        "outputId": "d4da6720-cfa4-4e5c-ba46-1b8f07e065df"
      },
      "outputs": [
        {
          "data": {
            "text/html": [
              "<div>\n",
              "<style scoped>\n",
              "    .dataframe tbody tr th:only-of-type {\n",
              "        vertical-align: middle;\n",
              "    }\n",
              "\n",
              "    .dataframe tbody tr th {\n",
              "        vertical-align: top;\n",
              "    }\n",
              "\n",
              "    .dataframe thead th {\n",
              "        text-align: right;\n",
              "    }\n",
              "</style>\n",
              "<table border=\"1\" class=\"dataframe\">\n",
              "  <thead>\n",
              "    <tr style=\"text-align: right;\">\n",
              "      <th></th>\n",
              "      <th>duration</th>\n",
              "      <th>protocol_type</th>\n",
              "      <th>service</th>\n",
              "      <th>flag</th>\n",
              "      <th>src_bytes</th>\n",
              "      <th>dst_bytes</th>\n",
              "      <th>land</th>\n",
              "      <th>wrong_fragment</th>\n",
              "      <th>urgent</th>\n",
              "      <th>hot</th>\n",
              "      <th>...</th>\n",
              "      <th>dst_host_same_srv_rate</th>\n",
              "      <th>dst_host_diff_srv_rate</th>\n",
              "      <th>dst_host_same_src_port_rate</th>\n",
              "      <th>dst_host_srv_diff_host_rate</th>\n",
              "      <th>dst_host_serror_rate</th>\n",
              "      <th>dst_host_srv_serror_rate</th>\n",
              "      <th>dst_host_rerror_rate</th>\n",
              "      <th>dst_host_srv_rerror_rate</th>\n",
              "      <th>attack</th>\n",
              "      <th>attack_class</th>\n",
              "    </tr>\n",
              "  </thead>\n",
              "  <tbody>\n",
              "    <tr>\n",
              "      <th>0</th>\n",
              "      <td>0</td>\n",
              "      <td>tcp</td>\n",
              "      <td>ftp_data</td>\n",
              "      <td>SF</td>\n",
              "      <td>491</td>\n",
              "      <td>0</td>\n",
              "      <td>0</td>\n",
              "      <td>0</td>\n",
              "      <td>0</td>\n",
              "      <td>0</td>\n",
              "      <td>...</td>\n",
              "      <td>0.17</td>\n",
              "      <td>0.03</td>\n",
              "      <td>0.17</td>\n",
              "      <td>0.0</td>\n",
              "      <td>0.0</td>\n",
              "      <td>0.0</td>\n",
              "      <td>0.05</td>\n",
              "      <td>0.0</td>\n",
              "      <td>normal</td>\n",
              "      <td>Normal</td>\n",
              "    </tr>\n",
              "    <tr>\n",
              "      <th>1</th>\n",
              "      <td>0</td>\n",
              "      <td>udp</td>\n",
              "      <td>other</td>\n",
              "      <td>SF</td>\n",
              "      <td>146</td>\n",
              "      <td>0</td>\n",
              "      <td>0</td>\n",
              "      <td>0</td>\n",
              "      <td>0</td>\n",
              "      <td>0</td>\n",
              "      <td>...</td>\n",
              "      <td>0.00</td>\n",
              "      <td>0.60</td>\n",
              "      <td>0.88</td>\n",
              "      <td>0.0</td>\n",
              "      <td>0.0</td>\n",
              "      <td>0.0</td>\n",
              "      <td>0.00</td>\n",
              "      <td>0.0</td>\n",
              "      <td>normal</td>\n",
              "      <td>Normal</td>\n",
              "    </tr>\n",
              "    <tr>\n",
              "      <th>2</th>\n",
              "      <td>0</td>\n",
              "      <td>tcp</td>\n",
              "      <td>private</td>\n",
              "      <td>S0</td>\n",
              "      <td>0</td>\n",
              "      <td>0</td>\n",
              "      <td>0</td>\n",
              "      <td>0</td>\n",
              "      <td>0</td>\n",
              "      <td>0</td>\n",
              "      <td>...</td>\n",
              "      <td>0.10</td>\n",
              "      <td>0.05</td>\n",
              "      <td>0.00</td>\n",
              "      <td>0.0</td>\n",
              "      <td>1.0</td>\n",
              "      <td>1.0</td>\n",
              "      <td>0.00</td>\n",
              "      <td>0.0</td>\n",
              "      <td>neptune</td>\n",
              "      <td>DoS</td>\n",
              "    </tr>\n",
              "  </tbody>\n",
              "</table>\n",
              "<p>3 rows × 43 columns</p>\n",
              "</div>"
            ],
            "text/plain": [
              "   duration protocol_type   service flag  src_bytes  dst_bytes  land  \\\n",
              "0         0           tcp  ftp_data   SF        491          0     0   \n",
              "1         0           udp     other   SF        146          0     0   \n",
              "2         0           tcp   private   S0          0          0     0   \n",
              "\n",
              "   wrong_fragment  urgent  hot  ...  dst_host_same_srv_rate  \\\n",
              "0               0       0    0  ...                    0.17   \n",
              "1               0       0    0  ...                    0.00   \n",
              "2               0       0    0  ...                    0.10   \n",
              "\n",
              "   dst_host_diff_srv_rate  dst_host_same_src_port_rate  \\\n",
              "0                    0.03                         0.17   \n",
              "1                    0.60                         0.88   \n",
              "2                    0.05                         0.00   \n",
              "\n",
              "   dst_host_srv_diff_host_rate  dst_host_serror_rate  \\\n",
              "0                          0.0                   0.0   \n",
              "1                          0.0                   0.0   \n",
              "2                          0.0                   1.0   \n",
              "\n",
              "   dst_host_srv_serror_rate  dst_host_rerror_rate  dst_host_srv_rerror_rate  \\\n",
              "0                       0.0                  0.05                       0.0   \n",
              "1                       0.0                  0.00                       0.0   \n",
              "2                       1.0                  0.00                       0.0   \n",
              "\n",
              "    attack  attack_class  \n",
              "0   normal        Normal  \n",
              "1   normal        Normal  \n",
              "2  neptune           DoS  \n",
              "\n",
              "[3 rows x 43 columns]"
            ]
          },
          "execution_count": 11,
          "metadata": {},
          "output_type": "execute_result"
        }
      ],
      "source": [
        "\n",
        "KDD_train['attack_class'] = KDD_train['attack'].apply(lambda x: class_mapping[x])\n",
        "KDD_train.head(3)\n"
      ]
    },
    {
      "cell_type": "code",
      "execution_count": null,
      "metadata": {
        "id": "lDH-ntt8FHbH",
        "outputId": "0a2d6ae9-dd04-4343-fa69-c2d7452649ff"
      },
      "outputs": [
        {
          "data": {
            "text/html": [
              "<div>\n",
              "<style scoped>\n",
              "    .dataframe tbody tr th:only-of-type {\n",
              "        vertical-align: middle;\n",
              "    }\n",
              "\n",
              "    .dataframe tbody tr th {\n",
              "        vertical-align: top;\n",
              "    }\n",
              "\n",
              "    .dataframe thead th {\n",
              "        text-align: right;\n",
              "    }\n",
              "</style>\n",
              "<table border=\"1\" class=\"dataframe\">\n",
              "  <thead>\n",
              "    <tr style=\"text-align: right;\">\n",
              "      <th></th>\n",
              "      <th>duration</th>\n",
              "      <th>protocol_type</th>\n",
              "      <th>service</th>\n",
              "      <th>flag</th>\n",
              "      <th>src_bytes</th>\n",
              "      <th>dst_bytes</th>\n",
              "      <th>land</th>\n",
              "      <th>wrong_fragment</th>\n",
              "      <th>urgent</th>\n",
              "      <th>hot</th>\n",
              "      <th>...</th>\n",
              "      <th>dst_host_same_srv_rate</th>\n",
              "      <th>dst_host_diff_srv_rate</th>\n",
              "      <th>dst_host_same_src_port_rate</th>\n",
              "      <th>dst_host_srv_diff_host_rate</th>\n",
              "      <th>dst_host_serror_rate</th>\n",
              "      <th>dst_host_srv_serror_rate</th>\n",
              "      <th>dst_host_rerror_rate</th>\n",
              "      <th>dst_host_srv_rerror_rate</th>\n",
              "      <th>attack</th>\n",
              "      <th>attack_class</th>\n",
              "    </tr>\n",
              "  </thead>\n",
              "  <tbody>\n",
              "    <tr>\n",
              "      <th>0</th>\n",
              "      <td>0</td>\n",
              "      <td>tcp</td>\n",
              "      <td>private</td>\n",
              "      <td>REJ</td>\n",
              "      <td>0</td>\n",
              "      <td>0</td>\n",
              "      <td>0</td>\n",
              "      <td>0</td>\n",
              "      <td>0</td>\n",
              "      <td>0</td>\n",
              "      <td>...</td>\n",
              "      <td>0.04</td>\n",
              "      <td>0.06</td>\n",
              "      <td>0.00</td>\n",
              "      <td>0.00</td>\n",
              "      <td>0.0</td>\n",
              "      <td>0.0</td>\n",
              "      <td>1.0</td>\n",
              "      <td>1.0</td>\n",
              "      <td>neptune</td>\n",
              "      <td>DoS</td>\n",
              "    </tr>\n",
              "    <tr>\n",
              "      <th>1</th>\n",
              "      <td>0</td>\n",
              "      <td>tcp</td>\n",
              "      <td>private</td>\n",
              "      <td>REJ</td>\n",
              "      <td>0</td>\n",
              "      <td>0</td>\n",
              "      <td>0</td>\n",
              "      <td>0</td>\n",
              "      <td>0</td>\n",
              "      <td>0</td>\n",
              "      <td>...</td>\n",
              "      <td>0.00</td>\n",
              "      <td>0.06</td>\n",
              "      <td>0.00</td>\n",
              "      <td>0.00</td>\n",
              "      <td>0.0</td>\n",
              "      <td>0.0</td>\n",
              "      <td>1.0</td>\n",
              "      <td>1.0</td>\n",
              "      <td>neptune</td>\n",
              "      <td>DoS</td>\n",
              "    </tr>\n",
              "    <tr>\n",
              "      <th>2</th>\n",
              "      <td>2</td>\n",
              "      <td>tcp</td>\n",
              "      <td>ftp_data</td>\n",
              "      <td>SF</td>\n",
              "      <td>12983</td>\n",
              "      <td>0</td>\n",
              "      <td>0</td>\n",
              "      <td>0</td>\n",
              "      <td>0</td>\n",
              "      <td>0</td>\n",
              "      <td>...</td>\n",
              "      <td>0.61</td>\n",
              "      <td>0.04</td>\n",
              "      <td>0.61</td>\n",
              "      <td>0.02</td>\n",
              "      <td>0.0</td>\n",
              "      <td>0.0</td>\n",
              "      <td>0.0</td>\n",
              "      <td>0.0</td>\n",
              "      <td>normal</td>\n",
              "      <td>Normal</td>\n",
              "    </tr>\n",
              "  </tbody>\n",
              "</table>\n",
              "<p>3 rows × 43 columns</p>\n",
              "</div>"
            ],
            "text/plain": [
              "   duration protocol_type   service flag  src_bytes  dst_bytes  land  \\\n",
              "0         0           tcp   private  REJ          0          0     0   \n",
              "1         0           tcp   private  REJ          0          0     0   \n",
              "2         2           tcp  ftp_data   SF      12983          0     0   \n",
              "\n",
              "   wrong_fragment  urgent  hot  ...  dst_host_same_srv_rate  \\\n",
              "0               0       0    0  ...                    0.04   \n",
              "1               0       0    0  ...                    0.00   \n",
              "2               0       0    0  ...                    0.61   \n",
              "\n",
              "   dst_host_diff_srv_rate  dst_host_same_src_port_rate  \\\n",
              "0                    0.06                         0.00   \n",
              "1                    0.06                         0.00   \n",
              "2                    0.04                         0.61   \n",
              "\n",
              "   dst_host_srv_diff_host_rate  dst_host_serror_rate  \\\n",
              "0                         0.00                   0.0   \n",
              "1                         0.00                   0.0   \n",
              "2                         0.02                   0.0   \n",
              "\n",
              "   dst_host_srv_serror_rate  dst_host_rerror_rate  dst_host_srv_rerror_rate  \\\n",
              "0                       0.0                   1.0                       1.0   \n",
              "1                       0.0                   1.0                       1.0   \n",
              "2                       0.0                   0.0                       0.0   \n",
              "\n",
              "    attack  attack_class  \n",
              "0  neptune           DoS  \n",
              "1  neptune           DoS  \n",
              "2   normal        Normal  \n",
              "\n",
              "[3 rows x 43 columns]"
            ]
          },
          "execution_count": 12,
          "metadata": {},
          "output_type": "execute_result"
        }
      ],
      "source": [
        "KDD_test['attack_class'] = KDD_test['attack'].apply(lambda x: class_mapping[x])\n",
        "KDD_test.head(3)"
      ]
    },
    {
      "cell_type": "code",
      "execution_count": null,
      "metadata": {
        "id": "XRIbCpo2FHbI",
        "outputId": "2073496a-7dbf-4897-97a1-30c2247070ba"
      },
      "outputs": [
        {
          "data": {
            "text/plain": [
              "(22544, 43)"
            ]
          },
          "execution_count": 13,
          "metadata": {},
          "output_type": "execute_result"
        }
      ],
      "source": [
        "KDD_test.shape"
      ]
    },
    {
      "cell_type": "code",
      "execution_count": null,
      "metadata": {
        "id": "ekfyFbU8FHbI"
      },
      "outputs": [],
      "source": [
        "# Drop attack field from both train and test data\n",
        "KDD_train.drop(['attack'], axis=1, inplace=True)\n",
        "KDD_test.drop(['attack'], axis=1, inplace=True)\n"
      ]
    },
    {
      "cell_type": "markdown",
      "metadata": {
        "id": "YU9DHvwSFHbJ"
      },
      "source": [
        "# Exploratory Data Analysis (EDA)"
      ]
    },
    {
      "cell_type": "markdown",
      "metadata": {
        "id": "V6lQYyxFFHbJ"
      },
      "source": [
        "### Descriptive Statistics"
      ]
    },
    {
      "cell_type": "code",
      "execution_count": null,
      "metadata": {
        "id": "HTmK3DKgFHbJ",
        "outputId": "e7cf6828-541a-49b8-e974-fd383c572acb"
      },
      "outputs": [
        {
          "data": {
            "text/html": [
              "<div>\n",
              "<style scoped>\n",
              "    .dataframe tbody tr th:only-of-type {\n",
              "        vertical-align: middle;\n",
              "    }\n",
              "\n",
              "    .dataframe tbody tr th {\n",
              "        vertical-align: top;\n",
              "    }\n",
              "\n",
              "    .dataframe thead th {\n",
              "        text-align: right;\n",
              "    }\n",
              "</style>\n",
              "<table border=\"1\" class=\"dataframe\">\n",
              "  <thead>\n",
              "    <tr style=\"text-align: right;\">\n",
              "      <th></th>\n",
              "      <th>duration</th>\n",
              "      <th>src_bytes</th>\n",
              "      <th>dst_bytes</th>\n",
              "      <th>land</th>\n",
              "      <th>wrong_fragment</th>\n",
              "      <th>urgent</th>\n",
              "      <th>hot</th>\n",
              "      <th>num_failed_logins</th>\n",
              "      <th>logged_in</th>\n",
              "      <th>num_compromised</th>\n",
              "      <th>...</th>\n",
              "      <th>dst_host_count</th>\n",
              "      <th>dst_host_srv_count</th>\n",
              "      <th>dst_host_same_srv_rate</th>\n",
              "      <th>dst_host_diff_srv_rate</th>\n",
              "      <th>dst_host_same_src_port_rate</th>\n",
              "      <th>dst_host_srv_diff_host_rate</th>\n",
              "      <th>dst_host_serror_rate</th>\n",
              "      <th>dst_host_srv_serror_rate</th>\n",
              "      <th>dst_host_rerror_rate</th>\n",
              "      <th>dst_host_srv_rerror_rate</th>\n",
              "    </tr>\n",
              "  </thead>\n",
              "  <tbody>\n",
              "    <tr>\n",
              "      <th>count</th>\n",
              "      <td>125973.00000</td>\n",
              "      <td>1.259730e+05</td>\n",
              "      <td>1.259730e+05</td>\n",
              "      <td>125973.000000</td>\n",
              "      <td>125973.000000</td>\n",
              "      <td>125973.000000</td>\n",
              "      <td>125973.000000</td>\n",
              "      <td>125973.000000</td>\n",
              "      <td>125973.000000</td>\n",
              "      <td>125973.000000</td>\n",
              "      <td>...</td>\n",
              "      <td>125973.000000</td>\n",
              "      <td>125973.000000</td>\n",
              "      <td>125973.000000</td>\n",
              "      <td>125973.000000</td>\n",
              "      <td>125973.000000</td>\n",
              "      <td>125973.000000</td>\n",
              "      <td>125973.000000</td>\n",
              "      <td>125973.000000</td>\n",
              "      <td>125973.000000</td>\n",
              "      <td>125973.000000</td>\n",
              "    </tr>\n",
              "    <tr>\n",
              "      <th>mean</th>\n",
              "      <td>287.14465</td>\n",
              "      <td>4.556674e+04</td>\n",
              "      <td>1.977911e+04</td>\n",
              "      <td>0.000198</td>\n",
              "      <td>0.022687</td>\n",
              "      <td>0.000111</td>\n",
              "      <td>0.204409</td>\n",
              "      <td>0.001222</td>\n",
              "      <td>0.395736</td>\n",
              "      <td>0.279250</td>\n",
              "      <td>...</td>\n",
              "      <td>182.148945</td>\n",
              "      <td>115.653005</td>\n",
              "      <td>0.521242</td>\n",
              "      <td>0.082951</td>\n",
              "      <td>0.148379</td>\n",
              "      <td>0.032542</td>\n",
              "      <td>0.284452</td>\n",
              "      <td>0.278485</td>\n",
              "      <td>0.118832</td>\n",
              "      <td>0.120240</td>\n",
              "    </tr>\n",
              "    <tr>\n",
              "      <th>std</th>\n",
              "      <td>2604.51531</td>\n",
              "      <td>5.870331e+06</td>\n",
              "      <td>4.021269e+06</td>\n",
              "      <td>0.014086</td>\n",
              "      <td>0.253530</td>\n",
              "      <td>0.014366</td>\n",
              "      <td>2.149968</td>\n",
              "      <td>0.045239</td>\n",
              "      <td>0.489010</td>\n",
              "      <td>23.942042</td>\n",
              "      <td>...</td>\n",
              "      <td>99.206213</td>\n",
              "      <td>110.702741</td>\n",
              "      <td>0.448949</td>\n",
              "      <td>0.188922</td>\n",
              "      <td>0.308997</td>\n",
              "      <td>0.112564</td>\n",
              "      <td>0.444784</td>\n",
              "      <td>0.445669</td>\n",
              "      <td>0.306557</td>\n",
              "      <td>0.319459</td>\n",
              "    </tr>\n",
              "    <tr>\n",
              "      <th>min</th>\n",
              "      <td>0.00000</td>\n",
              "      <td>0.000000e+00</td>\n",
              "      <td>0.000000e+00</td>\n",
              "      <td>0.000000</td>\n",
              "      <td>0.000000</td>\n",
              "      <td>0.000000</td>\n",
              "      <td>0.000000</td>\n",
              "      <td>0.000000</td>\n",
              "      <td>0.000000</td>\n",
              "      <td>0.000000</td>\n",
              "      <td>...</td>\n",
              "      <td>0.000000</td>\n",
              "      <td>0.000000</td>\n",
              "      <td>0.000000</td>\n",
              "      <td>0.000000</td>\n",
              "      <td>0.000000</td>\n",
              "      <td>0.000000</td>\n",
              "      <td>0.000000</td>\n",
              "      <td>0.000000</td>\n",
              "      <td>0.000000</td>\n",
              "      <td>0.000000</td>\n",
              "    </tr>\n",
              "    <tr>\n",
              "      <th>25%</th>\n",
              "      <td>0.00000</td>\n",
              "      <td>0.000000e+00</td>\n",
              "      <td>0.000000e+00</td>\n",
              "      <td>0.000000</td>\n",
              "      <td>0.000000</td>\n",
              "      <td>0.000000</td>\n",
              "      <td>0.000000</td>\n",
              "      <td>0.000000</td>\n",
              "      <td>0.000000</td>\n",
              "      <td>0.000000</td>\n",
              "      <td>...</td>\n",
              "      <td>82.000000</td>\n",
              "      <td>10.000000</td>\n",
              "      <td>0.050000</td>\n",
              "      <td>0.000000</td>\n",
              "      <td>0.000000</td>\n",
              "      <td>0.000000</td>\n",
              "      <td>0.000000</td>\n",
              "      <td>0.000000</td>\n",
              "      <td>0.000000</td>\n",
              "      <td>0.000000</td>\n",
              "    </tr>\n",
              "    <tr>\n",
              "      <th>50%</th>\n",
              "      <td>0.00000</td>\n",
              "      <td>4.400000e+01</td>\n",
              "      <td>0.000000e+00</td>\n",
              "      <td>0.000000</td>\n",
              "      <td>0.000000</td>\n",
              "      <td>0.000000</td>\n",
              "      <td>0.000000</td>\n",
              "      <td>0.000000</td>\n",
              "      <td>0.000000</td>\n",
              "      <td>0.000000</td>\n",
              "      <td>...</td>\n",
              "      <td>255.000000</td>\n",
              "      <td>63.000000</td>\n",
              "      <td>0.510000</td>\n",
              "      <td>0.020000</td>\n",
              "      <td>0.000000</td>\n",
              "      <td>0.000000</td>\n",
              "      <td>0.000000</td>\n",
              "      <td>0.000000</td>\n",
              "      <td>0.000000</td>\n",
              "      <td>0.000000</td>\n",
              "    </tr>\n",
              "    <tr>\n",
              "      <th>75%</th>\n",
              "      <td>0.00000</td>\n",
              "      <td>2.760000e+02</td>\n",
              "      <td>5.160000e+02</td>\n",
              "      <td>0.000000</td>\n",
              "      <td>0.000000</td>\n",
              "      <td>0.000000</td>\n",
              "      <td>0.000000</td>\n",
              "      <td>0.000000</td>\n",
              "      <td>1.000000</td>\n",
              "      <td>0.000000</td>\n",
              "      <td>...</td>\n",
              "      <td>255.000000</td>\n",
              "      <td>255.000000</td>\n",
              "      <td>1.000000</td>\n",
              "      <td>0.070000</td>\n",
              "      <td>0.060000</td>\n",
              "      <td>0.020000</td>\n",
              "      <td>1.000000</td>\n",
              "      <td>1.000000</td>\n",
              "      <td>0.000000</td>\n",
              "      <td>0.000000</td>\n",
              "    </tr>\n",
              "    <tr>\n",
              "      <th>max</th>\n",
              "      <td>42908.00000</td>\n",
              "      <td>1.379964e+09</td>\n",
              "      <td>1.309937e+09</td>\n",
              "      <td>1.000000</td>\n",
              "      <td>3.000000</td>\n",
              "      <td>3.000000</td>\n",
              "      <td>77.000000</td>\n",
              "      <td>5.000000</td>\n",
              "      <td>1.000000</td>\n",
              "      <td>7479.000000</td>\n",
              "      <td>...</td>\n",
              "      <td>255.000000</td>\n",
              "      <td>255.000000</td>\n",
              "      <td>1.000000</td>\n",
              "      <td>1.000000</td>\n",
              "      <td>1.000000</td>\n",
              "      <td>1.000000</td>\n",
              "      <td>1.000000</td>\n",
              "      <td>1.000000</td>\n",
              "      <td>1.000000</td>\n",
              "      <td>1.000000</td>\n",
              "    </tr>\n",
              "  </tbody>\n",
              "</table>\n",
              "<p>8 rows × 38 columns</p>\n",
              "</div>"
            ],
            "text/plain": [
              "           duration     src_bytes     dst_bytes           land  \\\n",
              "count  125973.00000  1.259730e+05  1.259730e+05  125973.000000   \n",
              "mean      287.14465  4.556674e+04  1.977911e+04       0.000198   \n",
              "std      2604.51531  5.870331e+06  4.021269e+06       0.014086   \n",
              "min         0.00000  0.000000e+00  0.000000e+00       0.000000   \n",
              "25%         0.00000  0.000000e+00  0.000000e+00       0.000000   \n",
              "50%         0.00000  4.400000e+01  0.000000e+00       0.000000   \n",
              "75%         0.00000  2.760000e+02  5.160000e+02       0.000000   \n",
              "max     42908.00000  1.379964e+09  1.309937e+09       1.000000   \n",
              "\n",
              "       wrong_fragment         urgent            hot  num_failed_logins  \\\n",
              "count   125973.000000  125973.000000  125973.000000      125973.000000   \n",
              "mean         0.022687       0.000111       0.204409           0.001222   \n",
              "std          0.253530       0.014366       2.149968           0.045239   \n",
              "min          0.000000       0.000000       0.000000           0.000000   \n",
              "25%          0.000000       0.000000       0.000000           0.000000   \n",
              "50%          0.000000       0.000000       0.000000           0.000000   \n",
              "75%          0.000000       0.000000       0.000000           0.000000   \n",
              "max          3.000000       3.000000      77.000000           5.000000   \n",
              "\n",
              "           logged_in  num_compromised  ...  dst_host_count  \\\n",
              "count  125973.000000    125973.000000  ...   125973.000000   \n",
              "mean        0.395736         0.279250  ...      182.148945   \n",
              "std         0.489010        23.942042  ...       99.206213   \n",
              "min         0.000000         0.000000  ...        0.000000   \n",
              "25%         0.000000         0.000000  ...       82.000000   \n",
              "50%         0.000000         0.000000  ...      255.000000   \n",
              "75%         1.000000         0.000000  ...      255.000000   \n",
              "max         1.000000      7479.000000  ...      255.000000   \n",
              "\n",
              "       dst_host_srv_count  dst_host_same_srv_rate  dst_host_diff_srv_rate  \\\n",
              "count       125973.000000           125973.000000           125973.000000   \n",
              "mean           115.653005                0.521242                0.082951   \n",
              "std            110.702741                0.448949                0.188922   \n",
              "min              0.000000                0.000000                0.000000   \n",
              "25%             10.000000                0.050000                0.000000   \n",
              "50%             63.000000                0.510000                0.020000   \n",
              "75%            255.000000                1.000000                0.070000   \n",
              "max            255.000000                1.000000                1.000000   \n",
              "\n",
              "       dst_host_same_src_port_rate  dst_host_srv_diff_host_rate  \\\n",
              "count                125973.000000                125973.000000   \n",
              "mean                      0.148379                     0.032542   \n",
              "std                       0.308997                     0.112564   \n",
              "min                       0.000000                     0.000000   \n",
              "25%                       0.000000                     0.000000   \n",
              "50%                       0.000000                     0.000000   \n",
              "75%                       0.060000                     0.020000   \n",
              "max                       1.000000                     1.000000   \n",
              "\n",
              "       dst_host_serror_rate  dst_host_srv_serror_rate  dst_host_rerror_rate  \\\n",
              "count         125973.000000             125973.000000         125973.000000   \n",
              "mean               0.284452                  0.278485              0.118832   \n",
              "std                0.444784                  0.445669              0.306557   \n",
              "min                0.000000                  0.000000              0.000000   \n",
              "25%                0.000000                  0.000000              0.000000   \n",
              "50%                0.000000                  0.000000              0.000000   \n",
              "75%                1.000000                  1.000000              0.000000   \n",
              "max                1.000000                  1.000000              1.000000   \n",
              "\n",
              "       dst_host_srv_rerror_rate  \n",
              "count             125973.000000  \n",
              "mean                   0.120240  \n",
              "std                    0.319459  \n",
              "min                    0.000000  \n",
              "25%                    0.000000  \n",
              "50%                    0.000000  \n",
              "75%                    0.000000  \n",
              "max                    1.000000  \n",
              "\n",
              "[8 rows x 38 columns]"
            ]
          },
          "execution_count": 15,
          "metadata": {},
          "output_type": "execute_result"
        }
      ],
      "source": [
        "KDD_train.describe()"
      ]
    },
    {
      "cell_type": "code",
      "execution_count": null,
      "metadata": {
        "id": "W1eUeDsvFHbK",
        "outputId": "e876ae0f-949c-43f7-9b47-1914ad38cfcf"
      },
      "outputs": [
        {
          "data": {
            "text/plain": [
              "0    125973\n",
              "Name: num_outbound_cmds, dtype: int64"
            ]
          },
          "execution_count": 16,
          "metadata": {},
          "output_type": "execute_result"
        }
      ],
      "source": [
        "KDD_train['num_outbound_cmds'].value_counts()"
      ]
    },
    {
      "cell_type": "code",
      "execution_count": null,
      "metadata": {
        "id": "2lxbx_tOFHbK"
      },
      "outputs": [],
      "source": [
        "# 'num_outbound_cmds' column has all 0 values. Therefore, it will be removed from both train and test dataset since it is a redundant field.\n",
        "\n",
        "KDD_train.drop(['num_outbound_cmds'], axis=1, inplace=True)\n",
        "KDD_test.drop(['num_outbound_cmds'], axis=1, inplace=True)"
      ]
    },
    {
      "cell_type": "code",
      "execution_count": null,
      "metadata": {
        "id": "ohEUkRx5FHbK",
        "outputId": "27f37d99-333e-4f91-bc4f-c6bfab35450e"
      },
      "outputs": [
        {
          "data": {
            "image/png": "[encoded data removed]",
            "text/plain": [
              "<Figure size 1080x864 with 2 Axes>"
            ]
          },
          "metadata": {},
          "output_type": "display_data"
        }
      ],
      "source": [
        "# Correlation heat map of train data\n",
        "sns.set(rc={'figure.figsize':(15, 12)})\n",
        "sns.heatmap(KDD_train.corr(), cmap='RdBu', square=True, annot=False)\n",
        "plt.show()"
      ]
    },
    {
      "cell_type": "markdown",
      "metadata": {
        "id": "21QlPiN_FHbL"
      },
      "source": [
        "### Attack Class Distribution"
      ]
    },
    {
      "cell_type": "code",
      "execution_count": null,
      "metadata": {
        "id": "BizHN456FHbL",
        "outputId": "e66a806c-652f-457e-de47-ca455465206e"
      },
      "outputs": [
        {
          "data": {
            "text/plain": [
              "(        attack_class\n",
              " Normal         67343\n",
              " DoS            45927\n",
              " Probe          11656\n",
              " R2L              995\n",
              " U2R               52,\n",
              "         attack_class\n",
              " Normal          9711\n",
              " DoS             7458\n",
              " R2L             2754\n",
              " Probe           2421\n",
              " U2R              200)"
            ]
          },
          "execution_count": 19,
          "metadata": {},
          "output_type": "execute_result"
        }
      ],
      "source": [
        "# Attack Class Distribution Totals\n",
        "attack_class_freq_train = KDD_train[['attack_class']].apply(lambda x: x.value_counts())\n",
        "attack_class_freq_test = KDD_test[['attack_class']].apply(lambda x: x.value_counts())\n",
        "attack_class_freq_train, attack_class_freq_test"
      ]
    },
    {
      "cell_type": "markdown",
      "metadata": {
        "id": "iJw9Z_sVFHbL"
      },
      "source": [
        "From the above summary, notice that the classes are imbalanced."
      ]
    },
    {
      "cell_type": "code",
      "execution_count": null,
      "metadata": {
        "id": "cezJM_XXFHbM",
        "outputId": "0d940da1-25e2-4e1b-8f90-98094523d768"
      },
      "outputs": [
        {
          "data": {
            "text/html": [
              "<div>\n",
              "<style scoped>\n",
              "    .dataframe tbody tr th:only-of-type {\n",
              "        vertical-align: middle;\n",
              "    }\n",
              "\n",
              "    .dataframe tbody tr th {\n",
              "        vertical-align: top;\n",
              "    }\n",
              "\n",
              "    .dataframe thead th {\n",
              "        text-align: right;\n",
              "    }\n",
              "</style>\n",
              "<table border=\"1\" class=\"dataframe\">\n",
              "  <thead>\n",
              "    <tr style=\"text-align: right;\">\n",
              "      <th></th>\n",
              "      <th>attack_class</th>\n",
              "      <th>frequency_percent_train</th>\n",
              "      <th>attack_class</th>\n",
              "      <th>frequency_percent_test</th>\n",
              "    </tr>\n",
              "  </thead>\n",
              "  <tbody>\n",
              "    <tr>\n",
              "      <th>Normal</th>\n",
              "      <td>67343</td>\n",
              "      <td>53.46</td>\n",
              "      <td>9711</td>\n",
              "      <td>43.08</td>\n",
              "    </tr>\n",
              "    <tr>\n",
              "      <th>DoS</th>\n",
              "      <td>45927</td>\n",
              "      <td>36.46</td>\n",
              "      <td>7458</td>\n",
              "      <td>33.08</td>\n",
              "    </tr>\n",
              "    <tr>\n",
              "      <th>Probe</th>\n",
              "      <td>11656</td>\n",
              "      <td>9.25</td>\n",
              "      <td>2421</td>\n",
              "      <td>10.74</td>\n",
              "    </tr>\n",
              "    <tr>\n",
              "      <th>R2L</th>\n",
              "      <td>995</td>\n",
              "      <td>0.79</td>\n",
              "      <td>2754</td>\n",
              "      <td>12.22</td>\n",
              "    </tr>\n",
              "    <tr>\n",
              "      <th>U2R</th>\n",
              "      <td>52</td>\n",
              "      <td>0.04</td>\n",
              "      <td>200</td>\n",
              "      <td>0.89</td>\n",
              "    </tr>\n",
              "  </tbody>\n",
              "</table>\n",
              "</div>"
            ],
            "text/plain": [
              "        attack_class  frequency_percent_train  attack_class  \\\n",
              "Normal         67343                    53.46          9711   \n",
              "DoS            45927                    36.46          7458   \n",
              "Probe          11656                     9.25          2421   \n",
              "R2L              995                     0.79          2754   \n",
              "U2R               52                     0.04           200   \n",
              "\n",
              "        frequency_percent_test  \n",
              "Normal                   43.08  \n",
              "DoS                      33.08  \n",
              "Probe                    10.74  \n",
              "R2L                      12.22  \n",
              "U2R                       0.89  "
            ]
          },
          "execution_count": 20,
          "metadata": {},
          "output_type": "execute_result"
        }
      ],
      "source": [
        "\n",
        "attack_class_freq_train['frequency_percent_train'] = round((100 * attack_class_freq_train / attack_class_freq_train.sum()),2)\n",
        "attack_class_freq_test['frequency_percent_test'] = round((100 * attack_class_freq_test / attack_class_freq_test.sum()),2)\n",
        "\n",
        "attack_class_dist = pd.concat([attack_class_freq_train,attack_class_freq_test], axis=1) \n",
        "attack_class_dist"
      ]
    },
    {
      "cell_type": "code",
      "execution_count": null,
      "metadata": {
        "id": "-dBRUA6SFHbM",
        "outputId": "cfcd5fa6-1e65-4428-953d-84e2f244cdfc"
      },
      "outputs": [
        {
          "data": {
            "image/png": "[encoded data removed]",
            "text/plain": [
              "<Figure size 1080x864 with 1 Axes>"
            ]
          },
          "metadata": {},
          "output_type": "display_data"
        }
      ],
      "source": [
        "# Attack class bar plot\n",
        "plot = attack_class_dist[['frequency_percent_train', 'frequency_percent_test']].plot(kind=\"bar\");\n",
        "plot.set_title(\"Attack Class Distribution\", fontsize=20);\n",
        "plot.grid(color='lightgray', alpha=0.5);"
      ]
    },
    {
      "cell_type": "markdown",
      "metadata": {
        "id": "2GLlVoE4FHbN"
      },
      "source": [
        "### Scaling Numerical Features"
      ]
    },
    {
      "cell_type": "code",
      "execution_count": null,
      "metadata": {
        "id": "Mi8kLHnjFHbN",
        "outputId": "55300a5d-c068-420f-a8ee-60a497aae823"
      },
      "outputs": [
        {
          "name": "stdout",
          "output_type": "stream",
          "text": [
            "<class 'pandas.core.frame.DataFrame'>\n",
            "RangeIndex: 125973 entries, 0 to 125972\n",
            "Data columns (total 41 columns):\n",
            " #   Column                       Non-Null Count   Dtype  \n",
            "---  ------                       --------------   -----  \n",
            " 0   duration                     125973 non-null  int64  \n",
            " 1   protocol_type                125973 non-null  object \n",
            " 2   service                      125973 non-null  object \n",
            " 3   flag                         125973 non-null  object \n",
            " 4   src_bytes                    125973 non-null  int64  \n",
            " 5   dst_bytes                    125973 non-null  int64  \n",
            " 6   land                         125973 non-null  int64  \n",
            " 7   wrong_fragment               125973 non-null  int64  \n",
            " 8   urgent                       125973 non-null  int64  \n",
            " 9   hot                          125973 non-null  int64  \n",
            " 10  num_failed_logins            125973 non-null  int64  \n",
            " 11  logged_in                    125973 non-null  int64  \n",
            " 12  num_compromised              125973 non-null  int64  \n",
            " 13  root_shell                   125973 non-null  int64  \n",
            " 14  su_attempted                 125973 non-null  int64  \n",
            " 15  num_root                     125973 non-null  int64  \n",
            " 16  num_file_creations           125973 non-null  int64  \n",
            " 17  num_shells                   125973 non-null  int64  \n",
            " 18  num_access_files             125973 non-null  int64  \n",
            " 19  is_host_login                125973 non-null  int64  \n",
            " 20  is_guest_login               125973 non-null  int64  \n",
            " 21  count                        125973 non-null  int64  \n",
            " 22  srv_count                    125973 non-null  int64  \n",
            " 23  serror_rate                  125973 non-null  float64\n",
            " 24  srv_serror_rate              125973 non-null  float64\n",
            " 25  rerror_rate                  125973 non-null  float64\n",
            " 26  srv_rerror_rate              125973 non-null  float64\n",
            " 27  same_srv_rate                125973 non-null  float64\n",
            " 28  diff_srv_rate                125973 non-null  float64\n",
            " 29  srv_diff_host_rate           125973 non-null  float64\n",
            " 30  dst_host_count               125973 non-null  int64  \n",
            " 31  dst_host_srv_count           125973 non-null  int64  \n",
            " 32  dst_host_same_srv_rate       125973 non-null  float64\n",
            " 33  dst_host_diff_srv_rate       125973 non-null  float64\n",
            " 34  dst_host_same_src_port_rate  125973 non-null  float64\n",
            " 35  dst_host_srv_diff_host_rate  125973 non-null  float64\n",
            " 36  dst_host_serror_rate         125973 non-null  float64\n",
            " 37  dst_host_srv_serror_rate     125973 non-null  float64\n",
            " 38  dst_host_rerror_rate         125973 non-null  float64\n",
            " 39  dst_host_srv_rerror_rate     125973 non-null  float64\n",
            " 40  attack_class                 125973 non-null  object \n",
            "dtypes: float64(15), int64(22), object(4)\n",
            "memory usage: 39.4+ MB\n"
          ]
        }
      ],
      "source": [
        "KDD_train.info()"
      ]
    },
    {
      "cell_type": "code",
      "execution_count": null,
      "metadata": {
        "id": "IxPN1HspFHbN"
      },
      "outputs": [],
      "source": [
        "from sklearn.preprocessing import StandardScaler \n",
        "\n",
        "scaler = StandardScaler()\n",
        "\n",
        "# Extract numerical attributes and scale it to have zero mean and unit variance  \n",
        "\n",
        "cols = KDD_train.select_dtypes(include=['float64','int64']).columns\n",
        "scaled_train = scaler.fit_transform(KDD_train.select_dtypes(include=['float64','int64']))\n",
        "scaled_test = scaler.fit_transform(KDD_test.select_dtypes(include=['float64','int64']))\n",
        "\n",
        "# Convert back to a dataframe\n",
        "\n",
        "scaled_traindf = pd.DataFrame(scaled_train, columns = cols)\n",
        "scaled_testdf = pd.DataFrame(scaled_test, columns = cols)"
      ]
    },
    {
      "cell_type": "markdown",
      "metadata": {
        "id": "iSRGKrppFHbO"
      },
      "source": [
        "### Encoding of categorical Attributes"
      ]
    },
    {
      "cell_type": "code",
      "execution_count": null,
      "metadata": {
        "id": "0LK8rddrFHbO"
      },
      "outputs": [],
      "source": [
        "from sklearn.preprocessing import LabelEncoder\n",
        "label_Encoder = LabelEncoder()\n",
        "\n",
        "# Obtain categorical attributes from both training and test sets \n",
        "cat_train = KDD_train.select_dtypes(include=['object']).copy()\n",
        "cat_test = KDD_test.select_dtypes(include=['object']).copy()\n",
        "\n",
        "# Encode the categorical attributes\n",
        "traincat = cat_train.apply(label_Encoder.fit_transform)\n",
        "testcat = cat_test.apply(label_Encoder.fit_transform)"
      ]
    },
    {
      "cell_type": "code",
      "execution_count": null,
      "metadata": {
        "id": "vi_-twWfFHbO"
      },
      "outputs": [],
      "source": [
        "# separate target column from encoded data \n",
        "\n",
        "encoded_train = traincat.drop(['attack_class'], axis=1)\n",
        "encoded_test = testcat.drop(['attack_class'], axis=1)\n",
        "\n",
        "cat_Ytrain = traincat[['attack_class']].copy()\n",
        "cat_Ytest = testcat[['attack_class']].copy()"
      ]
    },
    {
      "cell_type": "markdown",
      "metadata": {
        "id": "Q6woctFgFHbO"
      },
      "source": [
        "### Data Sampling"
      ]
    },
    {
      "cell_type": "code",
      "execution_count": null,
      "metadata": {
        "id": "KeNOEGehFHbP"
      },
      "outputs": [],
      "source": [
        "from imblearn.over_sampling import RandomOverSampler \n",
        "from collections import Counter\n",
        "\n",
        "\n",
        "# define columns and extract encoded train set for sampling \n",
        "sc_traindf = KDD_train.select_dtypes(include=['float64','int64'])\n",
        "data_cols = pd.concat([scaled_traindf, encoded_train], axis=1).columns\n",
        "refclass = np.concatenate((scaled_train, encoded_train.values), axis=1)\n",
        "X = refclass"
      ]
    },
    {
      "cell_type": "code",
      "execution_count": null,
      "metadata": {
        "id": "JayhsEzNFHbP",
        "outputId": "7b7f9a6e-233f-4250-b4d6-2fe97a616b48"
      },
      "outputs": [
        {
          "name": "stdout",
          "output_type": "stream",
          "text": [
            "Original dataset shape Counter({1: 67343, 0: 45927, 2: 11656, 3: 995, 4: 52})\n",
            "Resampled dataset shape Counter({1: 67343, 0: 67343, 3: 67343, 2: 67343, 4: 67343})\n"
          ]
        }
      ],
      "source": [
        "\n",
        "# reshape target column to 1D array shape \n",
        " \n",
        "c, r = cat_Ytest.values.shape\n",
        "y_test = cat_Ytest.values.reshape(c,)\n",
        "\n",
        "c, r = cat_Ytrain.values.shape\n",
        "y = cat_Ytrain.values.reshape(c,)\n",
        "\n",
        "# apply the random over-sampling\n",
        "\n",
        "ros = RandomOverSampler(random_state=42)\n",
        "X_resampled, y_resampled = ros.fit_sample(X, y)\n",
        "print('Original dataset shape {}'.format(Counter(y)))\n",
        "print('Resampled dataset shape {}'.format(Counter(y_resampled)))"
      ]
    },
    {
      "cell_type": "markdown",
      "metadata": {
        "id": "6kOzCTOIFHbP"
      },
      "source": [
        "# Feature Selection"
      ]
    },
    {
      "cell_type": "code",
      "execution_count": null,
      "metadata": {
        "id": "XNDUcSqaFHbQ",
        "outputId": "8b9dc4e8-8920-4588-ed0b-a461fd00f7e2"
      },
      "outputs": [
        {
          "name": "stdout",
          "output_type": "stream",
          "text": [
            "duration 0.029870019871474196\n",
            "src_bytes 0.11601668559368566\n",
            "dst_bytes 0.08002664013560849\n",
            "land 1.4097070456844617e-05\n",
            "wrong_fragment 0.002373170120155991\n",
            "urgent 0.0002539176756642288\n",
            "hot 0.015588886307544457\n",
            "num_failed_logins 0.0016141287770734688\n",
            "logged_in 0.059489236786251516\n",
            "num_compromised 0.011886454689224614\n",
            "root_shell 0.014009938263376289\n",
            "su_attempted 0.00012686185268796077\n",
            "num_root 0.002377434477058542\n",
            "num_file_creations 0.013021247806883072\n",
            "num_shells 0.0001301637036870579\n",
            "num_access_files 0.0004926900546046359\n",
            "is_host_login 0.0\n",
            "is_guest_login 0.014991605513977409\n",
            "count 0.03926734014225208\n",
            "srv_count 0.03690198301410942\n",
            "serror_rate 0.03285589910445406\n",
            "srv_serror_rate 0.021439518329582682\n",
            "rerror_rate 0.007065566453045825\n",
            "srv_rerror_rate 0.005756218350410926\n",
            "same_srv_rate 0.024971566868710254\n",
            "diff_srv_rate 0.015764039451007336\n",
            "srv_diff_host_rate 0.00787544071393963\n",
            "dst_host_count 0.03075186157396352\n",
            "dst_host_srv_count 0.09518063928915382\n",
            "dst_host_same_srv_rate 0.03074187976295447\n",
            "dst_host_diff_srv_rate 0.040815915571167344\n",
            "dst_host_same_src_port_rate 0.036403953080986595\n",
            "dst_host_srv_diff_host_rate 0.021476105205078932\n",
            "dst_host_serror_rate 0.04628868615064637\n",
            "dst_host_srv_serror_rate 0.020228620704853307\n",
            "dst_host_rerror_rate 0.014440172716701373\n",
            "dst_host_srv_rerror_rate 0.006770737404321848\n",
            "protocol_type 0.02047827705623885\n",
            "service 0.06914404609660972\n",
            "flag 0.013098354260397209\n"
          ]
        }
      ],
      "source": [
        "from sklearn.ensemble import RandomForestClassifier\n",
        "rfc = RandomForestClassifier()\n",
        "\n",
        "# Fit random forest classifier on the training set\n",
        "rfc.fit(X_resampled, y_resampled)\n",
        "\n",
        "names = []\n",
        "for name, score in zip(data_cols, rfc.feature_importances_):\n",
        "    names.append(name)\n",
        "    print(name, score)"
      ]
    },
    {
      "cell_type": "markdown",
      "metadata": {
        "id": "z_oQJtrnFHbV"
      },
      "source": [
        "### Plot important features"
      ]
    },
    {
      "cell_type": "code",
      "execution_count": null,
      "metadata": {
        "id": "L-n25tYSFHbV",
        "outputId": "3935c5bb-f5ad-431c-9b43-cddd5dfffcd1"
      },
      "outputs": [
        {
          "data": {
            "image/png": "[encoded data removed]",
            "text/plain": [
              "<Figure size 792x288 with 1 Axes>"
            ]
          },
          "metadata": {},
          "output_type": "display_data"
        }
      ],
      "source": [
        "from sklearn.ensemble import RandomForestClassifier\n",
        "rfc = RandomForestClassifier();\n",
        "\n",
        "# Fit random forest classifier on the training set\n",
        "rfc.fit(X_resampled, y_resampled);\n",
        "\n",
        "# Extract important features\n",
        "score = np.round(rfc.feature_importances_,3)\n",
        "\n",
        "importances = pd.DataFrame({'feature':data_cols,'importance':score})\n",
        "\n",
        "importances = importances.sort_values('importance',ascending=False).set_index('feature')\n",
        "\n",
        "# plot importances\n",
        "plt.rcParams['figure.figsize'] = (11, 4)\n",
        "importances.plot.bar();"
      ]
    },
    {
      "cell_type": "code",
      "execution_count": null,
      "metadata": {
        "id": "V6rriZ7VFHbW",
        "outputId": "7f18a6ff-4b4f-4110-8603-f09c36b0462d"
      },
      "outputs": [
        {
          "data": {
            "text/plain": [
              "40"
            ]
          },
          "execution_count": 30,
          "metadata": {},
          "output_type": "execute_result"
        }
      ],
      "source": [
        "len(importances)"
      ]
    },
    {
      "cell_type": "markdown",
      "metadata": {
        "id": "xUsLFb54FHbW"
      },
      "source": [
        "# Dataset Partition"
      ]
    },
    {
      "cell_type": "code",
      "execution_count": null,
      "metadata": {
        "id": "R-vAtv8tFHbX"
      },
      "outputs": [],
      "source": [
        "# define columns to new dataframe\n",
        "newcol = list(data_cols)\n",
        "newcol.append('attack_class')\n",
        "\n",
        "# add a dimension to target\n",
        "new_y_resampled = y_resampled[:, np.newaxis]\n",
        "\n",
        "# create a dataframe from sampled data\n",
        "resampled_arr = np.concatenate((X_resampled, new_y_resampled), axis=1)\n",
        "resampled_df = pd.DataFrame(resampled_arr, columns = newcol)"
      ]
    },
    {
      "cell_type": "code",
      "execution_count": null,
      "metadata": {
        "id": "JBe10SJEFHbX",
        "outputId": "74259481-1082-4262-827d-6dc267b007ea"
      },
      "outputs": [
        {
          "name": "stdout",
          "output_type": "stream",
          "text": [
            "(336715, 41)\n",
            "(22544, 41)\n"
          ]
        }
      ],
      "source": [
        "# create test dataframe\n",
        "reftest = pd.concat([scaled_testdf, testcat], axis=1)\n",
        "reftest['attack_class'] = reftest['attack_class'].astype(np.float64)\n",
        "reftest['protocol_type'] = reftest['protocol_type'].astype(np.float64)\n",
        "reftest['flag'] = reftest['flag'].astype(np.float64)\n",
        "reftest['service'] = reftest['service'].astype(np.float64)\n",
        "\n",
        "print(resampled_df.shape)\n",
        "print(reftest.shape)"
      ]
    },
    {
      "cell_type": "code",
      "execution_count": null,
      "metadata": {
        "id": "bkZPsRQ1FHbY",
        "outputId": "2613a674-46d8-46b8-ce2f-5d9d4d15a31b"
      },
      "outputs": [
        {
          "name": "stdout",
          "output_type": "stream",
          "text": [
            "dict_keys(['Normal_DoS', 'Normal_Probe', 'Normal_R2L', 'Normal_U2R'])\n"
          ]
        }
      ],
      "source": [
        "from collections import defaultdict\n",
        "classdict = defaultdict(list)\n",
        "\n",
        "# create two-target classes (normal class and an attack class)  \n",
        "attacklist = [('DoS', 0.0), ('Probe', 2.0), ('R2L', 3.0), ('U2R', 4.0)]\n",
        "normalclass = [('Normal', 1.0)]\n",
        "\n",
        "def create_classdict():\n",
        "    '''This function subdivides train and test dataset into two-class attack labels''' \n",
        "    for j, k in normalclass: \n",
        "        for i, v in attacklist: \n",
        "            restrain_set = resampled_df.loc[(resampled_df['attack_class'] == k) | (resampled_df['attack_class'] == v)]\n",
        "            classdict[j +'_' + i].append(restrain_set)\n",
        "            # test labels\n",
        "            reftest_set = reftest.loc[(reftest['attack_class'] == k) | (reftest['attack_class'] == v)]\n",
        "            classdict[j +'_' + i].append(reftest_set)\n",
        "        \n",
        "create_classdict()\n",
        "print(classdict.keys())"
      ]
    },
    {
      "cell_type": "code",
      "execution_count": null,
      "metadata": {
        "id": "aFk_RYagFHbY",
        "outputId": "c001153b-2faf-4754-8922-f570619349d6"
      },
      "outputs": [
        {
          "name": "stdout",
          "output_type": "stream",
          "text": [
            "Normal_DoS\n",
            "Normal_Probe\n",
            "Normal_R2L\n",
            "Normal_U2R\n"
          ]
        }
      ],
      "source": [
        "grpclass = []\n",
        "for k, v in classdict.items():\n",
        "    grpclass.append(k)\n",
        "    print(k)"
      ]
    },
    {
      "cell_type": "code",
      "execution_count": null,
      "metadata": {
        "id": "AAa2RFsgFHbY"
      },
      "outputs": [],
      "source": [
        "\n",
        "pretrain = classdict['Normal_Probe'][0]\n",
        "pretest = classdict['Normal_Probe'][1]\n",
        "grpclass = 'Normal_Probe'\n",
        "\n",
        "Xresampled_df = pretrain \n",
        "newtest = pretest\n",
        "\n",
        "Xresampled_dfnew = Xresampled_df[names]\n",
        "Xresdfnum = Xresampled_dfnew.drop(['service'], axis=1)\n",
        "Xresdfcat = Xresampled_dfnew[['service']].copy()\n",
        "\n",
        "Xtest_features = newtest[names]\n",
        "Xtestdfnum = Xtest_features.drop(['service'], axis=1)\n",
        "Xtestcat = Xtest_features[['service']].copy()\n",
        "\n",
        "# Transform train data\n",
        "X_train_1hotenc = np.array(Xresdfcat)\n",
        "    \n",
        "# Transform test data\n",
        "X_test_1hotenc =np.array(Xtestcat)\n",
        "\n",
        "X_train = np.concatenate((Xresdfnum.values, X_train_1hotenc), axis=1)\n",
        "X_test = np.concatenate((Xtestdfnum.values, X_test_1hotenc), axis=1) \n",
        "\n",
        "y_train = Xresampled_df[['attack_class']].copy()\n",
        "c, r = y_train.values.shape\n",
        "Y_train = y_train.values.reshape(c,)\n",
        "\n",
        "y_test = newtest[['attack_class']].copy()\n",
        "c, r = y_test.values.shape\n",
        "Y_test = y_test.values.reshape(c,)\n"
      ]
    },
    {
      "cell_type": "markdown",
      "metadata": {
        "id": "PXejnXi8FHbZ"
      },
      "source": [
        "# Training Models"
      ]
    },
    {
      "cell_type": "markdown",
      "metadata": {
        "id": "X1reI7iYFHbZ"
      },
      "source": [
        "Use the best features for model training"
      ]
    },
    {
      "cell_type": "code",
      "execution_count": null,
      "metadata": {
        "id": "i1sSyX_3FHbZ"
      },
      "outputs": [],
      "source": [
        "DTC_Classifier = DecisionTreeClassifier(splitter='random', random_state=42)\n",
        "DTC_Classifier.fit(X_train, y_train)\n",
        "\n",
        "RF_Classifier = RandomForestClassifier(n_jobs=-1, random_state=42)\n",
        "RF_Classifier.fit(X_train, y_train)\n",
        "\n",
        "from sklearn.model_selection import StratifiedKFold\n",
        "from sklearn.feature_selection import RFECV\n",
        "\n",
        "\n",
        "min_features_to_select = 1  # Minimum number of features to consider\n",
        "rfecv = RFECV(\n",
        "    estimator=RF_Classifier,\n",
        "    step=1,\n",
        "    cv=StratifiedKFold(2),\n",
        "    scoring=\"accuracy\",\n",
        "    min_features_to_select=min_features_to_select,\n",
        ")"
      ]
    },
    {
      "cell_type": "markdown",
      "metadata": {
        "id": "ivOqssnnFHba"
      },
      "source": [
        "# Model Evaluation"
      ]
    },
    {
      "cell_type": "code",
      "execution_count": null,
      "metadata": {
        "id": "mKfGKerrFHba"
      },
      "outputs": [],
      "source": [
        "# from sklearn import metrics\n",
        "\n",
        "# models = []\n",
        "# models.append(('Decision Tree Classifier', DTC_Classifier))\n",
        "# models.append(('RandomForest Classifier', RF_Classifier))\n",
        "\n",
        "# for i, model in models:\n",
        "#     scores = cross_val_score(model, X_train, Y_train, cv=4)\n",
        "#     accuracy = metrics.accuracy_score(y_train, model.predict(X_train))\n",
        "#     confusion_matrix = metrics.confusion_matrix(Y_train, model.predict(X_train))\n",
        "#     classification = metrics.classification_report(Y_train, model.predict(X_train))\n",
        "#     print()\n",
        "#     print('============================== {} {} Model Evaluation =============================='.format(grpclass_, i))\n",
        "#     print()\n",
        "#     print (\"Cross Validation Mean Score:\" \"\\n\", scores.mean())\n",
        "#     print()\n",
        "#     print (\"Model Accuracy:\" \"\\n\", accuracy)\n",
        "#     print()\n",
        "#     print(\"Confusion matrix:\" \"\\n\", confusion_matrix)\n",
        "#     print()\n",
        "#     print(\"Classification report:\" \"\\n\", classification) \n",
        "#     print()"
      ]
    },
    {
      "cell_type": "code",
      "execution_count": null,
      "metadata": {
        "id": "6So3oI2xFHba",
        "outputId": "7d83df56-9d51-46b6-a19a-e6667cba720e"
      },
      "outputs": [
        {
          "name": "stdout",
          "output_type": "stream",
          "text": [
            "\n",
            "============================== Normal_Probe Decision Tree Classifier Model Evaluation ==============================\n",
            "\n",
            "Model Accuracy:\n",
            " 0.8910319815364326\n",
            "\n",
            "Confusion matrix:\n",
            " [[9499  212]\n",
            " [1110 1311]]\n",
            "\n",
            "Classification report:\n",
            "               precision    recall  f1-score   support\n",
            "\n",
            "         1.0       0.90      0.98      0.93      9711\n",
            "         2.0       0.86      0.54      0.66      2421\n",
            "\n",
            "    accuracy                           0.89     12132\n",
            "   macro avg       0.88      0.76      0.80     12132\n",
            "weighted avg       0.89      0.89      0.88     12132\n",
            "\n",
            "\n",
            "Optimal number of features : 26\n"
          ]
        },
        {
          "data": {
            "image/png": "[encoded data removed]",
            "text/plain": [
              "<Figure size 792x288 with 1 Axes>"
            ]
          },
          "metadata": {},
          "output_type": "display_data"
        },
        {
          "name": "stdout",
          "output_type": "stream",
          "text": [
            "\n",
            "============================== Normal_Probe RandomForest Classifier Model Evaluation ==============================\n",
            "\n",
            "Model Accuracy:\n",
            " 0.9152654137817342\n",
            "\n",
            "Confusion matrix:\n",
            " [[9410  301]\n",
            " [ 727 1694]]\n",
            "\n",
            "Classification report:\n",
            "               precision    recall  f1-score   support\n",
            "\n",
            "         1.0       0.93      0.97      0.95      9711\n",
            "         2.0       0.85      0.70      0.77      2421\n",
            "\n",
            "    accuracy                           0.92     12132\n",
            "   macro avg       0.89      0.83      0.86     12132\n",
            "weighted avg       0.91      0.92      0.91     12132\n",
            "\n",
            "\n",
            "Optimal number of features : 26\n"
          ]
        },
        {
          "data": {
            "image/png": "[encoded data removed]",
            "text/plain": [
              "<Figure size 792x288 with 1 Axes>"
            ]
          },
          "metadata": {},
          "output_type": "display_data"
        }
      ],
      "source": [
        "from sklearn import metrics\n",
        "\n",
        "models = []\n",
        "models.append(('Decision Tree Classifier', DTC_Classifier))\n",
        "models.append(('RandomForest Classifier', RF_Classifier))\n",
        "\n",
        "for i, model in models:\n",
        "    accuracy = metrics.accuracy_score(Y_test, model.predict(X_test))\n",
        "    confusion_matrix = metrics.confusion_matrix(Y_test, model.predict(X_test))\n",
        "    classification = metrics.classification_report(Y_test, model.predict(X_test))\n",
        "    print()\n",
        "    print('============================== {} {} Model Evaluation =============================='.format(grpclass, i))\n",
        "    # print('================================ {} Model Test Results =============================='.format(i))\n",
        "    print()\n",
        "    print (\"Model Accuracy:\" \"\\n\", accuracy)\n",
        "    print()\n",
        "    print(\"Confusion matrix:\" \"\\n\", confusion_matrix)\n",
        "    print()\n",
        "    print(\"Classification report:\" \"\\n\", classification) \n",
        "    print()  \n",
        "    rfecv.fit(X_test, Y_test)\n",
        "\n",
        "    print(\"Optimal number of features : %d\" % rfecv.n_features_)\n",
        "\n",
        "    # Plot number of features VS. cross-validation scores\n",
        "    plt.figure()\n",
        "    plt.xlabel(\"Number of features selected\")\n",
        "    plt.ylabel(\"Cross validation score (accuracy)\")\n",
        "    plt.plot(\n",
        "        range(min_features_to_select, len(rfecv.grid_scores_) + min_features_to_select),\n",
        "        rfecv.grid_scores_,\n",
        "    )\n",
        "    plt.show()"
      ]
    },
    {
      "cell_type": "code",
      "execution_count": null,
      "metadata": {
        "id": "2h13bgfmFHbb",
        "outputId": "bac88dbc-770f-45b6-a14a-b93f829abc78"
      },
      "outputs": [
        {
          "name": "stdout",
          "output_type": "stream",
          "text": [
            "\n",
            "============================== Normal_DoS Decision Tree Classifier Model Evaluation ==============================\n",
            "\n",
            "Model Accuracy:\n",
            " 0.5532646048109966\n",
            "\n",
            "Confusion matrix:\n",
            " [[   0 2794 4664]\n",
            " [   0 9499  212]\n",
            " [   0    0    0]]\n",
            "\n",
            "Classification report:\n",
            "               precision    recall  f1-score   support\n",
            "\n",
            "         0.0       0.00      0.00      0.00      7458\n",
            "         1.0       0.77      0.98      0.86      9711\n",
            "         2.0       0.00      0.00      0.00         0\n",
            "\n",
            "    accuracy                           0.55     17169\n",
            "   macro avg       0.26      0.33      0.29     17169\n",
            "weighted avg       0.44      0.55      0.49     17169\n",
            "\n",
            "\n",
            "Optimal number of features : 26\n"
          ]
        },
        {
          "data": {
            "image/png": "[encoded data removed]",
            "text/plain": [
              "<Figure size 792x288 with 1 Axes>"
            ]
          },
          "metadata": {},
          "output_type": "display_data"
        },
        {
          "name": "stdout",
          "output_type": "stream",
          "text": [
            "\n",
            "============================== Normal_DoS RandomForest Classifier Model Evaluation ==============================\n",
            "\n",
            "Model Accuracy:\n",
            " 0.5480808433805114\n",
            "\n",
            "Confusion matrix:\n",
            " [[   0 3599 3859]\n",
            " [   0 9410  301]\n",
            " [   0    0    0]]\n",
            "\n",
            "Classification report:\n",
            "               precision    recall  f1-score   support\n",
            "\n",
            "         0.0       0.00      0.00      0.00      7458\n",
            "         1.0       0.72      0.97      0.83      9711\n",
            "         2.0       0.00      0.00      0.00         0\n",
            "\n",
            "    accuracy                           0.55     17169\n",
            "   macro avg       0.24      0.32      0.28     17169\n",
            "weighted avg       0.41      0.55      0.47     17169\n",
            "\n",
            "\n",
            "Optimal number of features : 26\n"
          ]
        },
        {
          "data": {
            "image/png": "[encoded data removed]",
            "text/plain": [
              "<Figure size 792x288 with 1 Axes>"
            ]
          },
          "metadata": {},
          "output_type": "display_data"
        }
      ],
      "source": [
        "pretrain = classdict['Normal_DoS'][0]\n",
        "pretest = classdict['Normal_DoS'][1]\n",
        "grpclass = 'Normal_DoS'\n",
        "\n",
        "\n",
        "\n",
        "Xresampled_df = pretrain \n",
        "newtest = pretest\n",
        "\n",
        "Xresampled_dfnew = Xresampled_df[names]\n",
        "Xresdfnum = Xresampled_dfnew.drop(['service'], axis=1)\n",
        "Xresdfcat = Xresampled_dfnew[['service']].copy()\n",
        "\n",
        "Xtest_features = newtest[names]\n",
        "Xtestdfnum = Xtest_features.drop(['service'], axis=1)\n",
        "Xtestcat = Xtest_features[['service']].copy()\n",
        "\n",
        "# Transform train data\n",
        "X_train_1hotenc = np.array(Xresdfcat)\n",
        "    \n",
        "# Transform test data\n",
        "X_test_1hotenc =np.array(Xtestcat)\n",
        "\n",
        "X_train = np.concatenate((Xresdfnum.values, X_train_1hotenc), axis=1)\n",
        "X_test = np.concatenate((Xtestdfnum.values, X_test_1hotenc), axis=1) \n",
        "\n",
        "y_train = Xresampled_df[['attack_class']].copy()\n",
        "c, r = y_train.values.shape\n",
        "Y_train = y_train.values.reshape(c,)\n",
        "\n",
        "y_test = newtest[['attack_class']].copy()\n",
        "c, r = y_test.values.shape\n",
        "Y_test = y_test.values.reshape(c,)\n",
        "\n",
        "\n",
        "for i, model in models:\n",
        "    accuracy = metrics.accuracy_score(Y_test, model.predict(X_test))\n",
        "    confusion_matrix = metrics.confusion_matrix(Y_test, model.predict(X_test))\n",
        "    classification = metrics.classification_report(Y_test, model.predict(X_test))\n",
        "    print()\n",
        "    print('============================== {} {} Model Evaluation =============================='.format(grpclass, i))\n",
        "    print()\n",
        "    print (\"Model Accuracy:\" \"\\n\", accuracy)\n",
        "    print()\n",
        "    print(\"Confusion matrix:\" \"\\n\", confusion_matrix)\n",
        "    print()\n",
        "    print(\"Classification report:\" \"\\n\", classification) \n",
        "    print()  \n",
        "    rfecv.fit(X_test, Y_test)\n",
        "\n",
        "    print(\"Optimal number of features : %d\" % rfecv.n_features_)\n",
        "\n",
        "    # Plot number of features VS. cross-validation scores\n",
        "    plt.figure()\n",
        "    plt.xlabel(\"Number of features selected\")\n",
        "    plt.ylabel(\"Cross validation score (accuracy)\")\n",
        "    plt.plot(\n",
        "        range(min_features_to_select, len(rfecv.grid_scores_) + min_features_to_select),\n",
        "        rfecv.grid_scores_,\n",
        "    )\n",
        "    plt.show()"
      ]
    },
    {
      "cell_type": "code",
      "execution_count": null,
      "metadata": {
        "id": "nSOUZ-9aFHbc",
        "outputId": "ca177b48-2640-4d65-fa95-9094081772d6"
      },
      "outputs": [
        {
          "name": "stdout",
          "output_type": "stream",
          "text": [
            "\n",
            "============================== Normal_R2L Decision Tree Classifier Model Evaluation ==============================\n",
            "\n",
            "Model Accuracy:\n",
            " 0.7620537505014039\n",
            "\n",
            "Confusion matrix:\n",
            " [[9499  212    0]\n",
            " [   0    0    0]\n",
            " [2660   94    0]]\n",
            "\n",
            "Classification report:\n",
            "               precision    recall  f1-score   support\n",
            "\n",
            "         1.0       0.78      0.98      0.87      9711\n",
            "         2.0       0.00      0.00      0.00         0\n",
            "         3.0       0.00      0.00      0.00      2754\n",
            "\n",
            "    accuracy                           0.76     12465\n",
            "   macro avg       0.26      0.33      0.29     12465\n",
            "weighted avg       0.61      0.76      0.68     12465\n",
            "\n",
            "\n",
            "Optimal number of features : 27\n"
          ]
        },
        {
          "data": {
            "image/png": "[encoded data removed]",
            "text/plain": [
              "<Figure size 792x288 with 1 Axes>"
            ]
          },
          "metadata": {},
          "output_type": "display_data"
        },
        {
          "name": "stdout",
          "output_type": "stream",
          "text": [
            "\n",
            "============================== Normal_R2L RandomForest Classifier Model Evaluation ==============================\n",
            "\n",
            "Model Accuracy:\n",
            " 0.7549137585238668\n",
            "\n",
            "Confusion matrix:\n",
            " [[9410  301    0]\n",
            " [   0    0    0]\n",
            " [2617  137    0]]\n",
            "\n",
            "Classification report:\n",
            "               precision    recall  f1-score   support\n",
            "\n",
            "         1.0       0.78      0.97      0.87      9711\n",
            "         2.0       0.00      0.00      0.00         0\n",
            "         3.0       0.00      0.00      0.00      2754\n",
            "\n",
            "    accuracy                           0.75     12465\n",
            "   macro avg       0.26      0.32      0.29     12465\n",
            "weighted avg       0.61      0.75      0.67     12465\n",
            "\n",
            "\n",
            "Optimal number of features : 27\n"
          ]
        },
        {
          "data": {
            "image/png": "[encoded data removed]",
            "text/plain": [
              "<Figure size 792x288 with 1 Axes>"
            ]
          },
          "metadata": {},
          "output_type": "display_data"
        }
      ],
      "source": [
        "pretrain = classdict['Normal_R2L'][0]\n",
        "pretest = classdict['Normal_R2L'][1]\n",
        "grpclass = 'Normal_R2L'\n",
        "\n",
        "\n",
        "\n",
        "Xresampled_df = pretrain \n",
        "newtest = pretest\n",
        "\n",
        "Xresampled_dfnew = Xresampled_df[names]\n",
        "Xresdfnum = Xresampled_dfnew.drop(['service'], axis=1)\n",
        "Xresdfcat = Xresampled_dfnew[['service']].copy()\n",
        "\n",
        "Xtest_features = newtest[names]\n",
        "Xtestdfnum = Xtest_features.drop(['service'], axis=1)\n",
        "Xtestcat = Xtest_features[['service']].copy()\n",
        "\n",
        "# Transform train data\n",
        "X_train_1hotenc = np.array(Xresdfcat)\n",
        "    \n",
        "# Transform test data\n",
        "X_test_1hotenc =np.array(Xtestcat)\n",
        "\n",
        "X_train = np.concatenate((Xresdfnum.values, X_train_1hotenc), axis=1)\n",
        "X_test = np.concatenate((Xtestdfnum.values, X_test_1hotenc), axis=1) \n",
        "\n",
        "y_train = Xresampled_df[['attack_class']].copy()\n",
        "c, r = y_train.values.shape\n",
        "Y_train = y_train.values.reshape(c,)\n",
        "\n",
        "y_test = newtest[['attack_class']].copy()\n",
        "c, r = y_test.values.shape\n",
        "Y_test = y_test.values.reshape(c,)\n",
        "\n",
        "\n",
        "for i, model in models:\n",
        "    accuracy = metrics.accuracy_score(Y_test, model.predict(X_test))\n",
        "    confusion_matrix = metrics.confusion_matrix(Y_test, model.predict(X_test))\n",
        "    classification = metrics.classification_report(Y_test, model.predict(X_test))\n",
        "    print()\n",
        "    print('============================== {} {} Model Evaluation =============================='.format(grpclass, i))\n",
        "    print()\n",
        "    print (\"Model Accuracy:\" \"\\n\", accuracy)\n",
        "    print()\n",
        "    print(\"Confusion matrix:\" \"\\n\", confusion_matrix)\n",
        "    print()\n",
        "    print(\"Classification report:\" \"\\n\", classification) \n",
        "    print()  \n",
        "    rfecv.fit(X_test, Y_test)\n",
        "\n",
        "    print(\"Optimal number of features : %d\" % rfecv.n_features_)\n",
        "\n",
        "    # Plot number of features VS. cross-validation scores\n",
        "    plt.figure()\n",
        "    plt.xlabel(\"Number of features selected\")\n",
        "    plt.ylabel(\"Cross validation score (accuracy)\")\n",
        "    plt.plot(\n",
        "        range(min_features_to_select, len(rfecv.grid_scores_) + min_features_to_select),\n",
        "        rfecv.grid_scores_,\n",
        "    )\n",
        "    plt.show()"
      ]
    },
    {
      "cell_type": "code",
      "execution_count": null,
      "metadata": {
        "id": "wc3gGXX3FHbd",
        "outputId": "06ba266b-70fe-4953-9ce8-500d1951fe2e"
      },
      "outputs": [
        {
          "name": "stdout",
          "output_type": "stream",
          "text": [
            "\n",
            "============================== Normal_U2R Decision Tree Classifier Model Evaluation ==============================\n",
            "\n",
            "Model Accuracy:\n",
            " 0.9584300272424578\n",
            "\n",
            "Confusion matrix:\n",
            " [[9499  212    0]\n",
            " [   0    0    0]\n",
            " [ 120   80    0]]\n",
            "\n",
            "Classification report:\n",
            "               precision    recall  f1-score   support\n",
            "\n",
            "         1.0       0.99      0.98      0.98      9711\n",
            "         2.0       0.00      0.00      0.00         0\n",
            "         4.0       0.00      0.00      0.00       200\n",
            "\n",
            "    accuracy                           0.96      9911\n",
            "   macro avg       0.33      0.33      0.33      9911\n",
            "weighted avg       0.97      0.96      0.96      9911\n",
            "\n",
            "\n",
            "Optimal number of features : 39\n"
          ]
        },
        {
          "data": {
            "image/png": "[encoded data removed]",
            "text/plain": [
              "<Figure size 792x288 with 1 Axes>"
            ]
          },
          "metadata": {},
          "output_type": "display_data"
        },
        {
          "name": "stdout",
          "output_type": "stream",
          "text": [
            "\n",
            "============================== Normal_U2R RandomForest Classifier Model Evaluation ==============================\n",
            "\n",
            "Model Accuracy:\n",
            " 0.9494501059428917\n",
            "\n",
            "Confusion matrix:\n",
            " [[9410  301    0]\n",
            " [   0    0    0]\n",
            " [ 179   21    0]]\n",
            "\n",
            "Classification report:\n",
            "               precision    recall  f1-score   support\n",
            "\n",
            "         1.0       0.98      0.97      0.98      9711\n",
            "         2.0       0.00      0.00      0.00         0\n",
            "         4.0       0.00      0.00      0.00       200\n",
            "\n",
            "    accuracy                           0.95      9911\n",
            "   macro avg       0.33      0.32      0.33      9911\n",
            "weighted avg       0.96      0.95      0.96      9911\n",
            "\n",
            "\n",
            "Optimal number of features : 39\n"
          ]
        },
        {
          "data": {
            "image/png": "[encoded data removed]",
            "text/plain": [
              "<Figure size 792x288 with 1 Axes>"
            ]
          },
          "metadata": {},
          "output_type": "display_data"
        }
      ],
      "source": [
        "pretrain = classdict['Normal_U2R'][0]\n",
        "pretest = classdict['Normal_U2R'][1]\n",
        "grpclass = 'Normal_U2R'\n",
        "\n",
        "\n",
        "\n",
        "Xresampled_df = pretrain \n",
        "newtest = pretest\n",
        "\n",
        "Xresampled_dfnew = Xresampled_df[names]\n",
        "Xresdfnum = Xresampled_dfnew.drop(['service'], axis=1)\n",
        "Xresdfcat = Xresampled_dfnew[['service']].copy()\n",
        "\n",
        "Xtest_features = newtest[names]\n",
        "Xtestdfnum = Xtest_features.drop(['service'], axis=1)\n",
        "Xtestcat = Xtest_features[['service']].copy()\n",
        "\n",
        "# Transform train data\n",
        "X_train_1hotenc = np.array(Xresdfcat)\n",
        "    \n",
        "# Transform test data\n",
        "X_test_1hotenc =np.array(Xtestcat)\n",
        "\n",
        "X_train = np.concatenate((Xresdfnum.values, X_train_1hotenc), axis=1)\n",
        "X_test = np.concatenate((Xtestdfnum.values, X_test_1hotenc), axis=1) \n",
        "\n",
        "y_train = Xresampled_df[['attack_class']].copy()\n",
        "c, r = y_train.values.shape\n",
        "Y_train = y_train.values.reshape(c,)\n",
        "\n",
        "y_test = newtest[['attack_class']].copy()\n",
        "c, r = y_test.values.shape\n",
        "Y_test = y_test.values.reshape(c,)\n",
        "\n",
        "\n",
        "for i, model in models:\n",
        "    accuracy = metrics.accuracy_score(Y_test, model.predict(X_test))\n",
        "    confusion_matrix = metrics.confusion_matrix(Y_test, model.predict(X_test))\n",
        "    classification = metrics.classification_report(Y_test, model.predict(X_test))\n",
        "    print()\n",
        "    print('============================== {} {} Model Evaluation =============================='.format(grpclass, i))\n",
        "    print()\n",
        "    print (\"Model Accuracy:\" \"\\n\", accuracy)\n",
        "    print()\n",
        "    print(\"Confusion matrix:\" \"\\n\", confusion_matrix)\n",
        "    print()\n",
        "    print(\"Classification report:\" \"\\n\", classification) \n",
        "    print()  \n",
        "    rfecv.fit(X_test, Y_test)\n",
        "\n",
        "    print(\"Optimal number of features : %d\" % rfecv.n_features_)\n",
        "\n",
        "    # Plot number of features VS. cross-validation scores\n",
        "    plt.figure()\n",
        "    plt.xlabel(\"Number of features selected\")\n",
        "    plt.ylabel(\"Cross validation score (accuracy)\")\n",
        "    plt.plot(\n",
        "        range(min_features_to_select, len(rfecv.grid_scores_) + min_features_to_select),\n",
        "        rfecv.grid_scores_,\n",
        "    )\n",
        "    plt.show()"
      ]
    },
    {
      "cell_type": "code",
      "execution_count": null,
      "metadata": {
        "id": "6LC9R-hDFHbe"
      },
      "outputs": [],
      "source": [
        ""
      ]
    }
  ],
  "metadata": {
    "kernelspec": {
      "display_name": "Python 3",
      "language": "python",
      "name": "python3"
    },
    "language_info": {
      "codemirror_mode": {
        "name": "ipython",
        "version": 3
      },
      "file_extension": ".py",
      "mimetype": "text/x-python",
      "name": "python",
      "nbconvert_exporter": "python",
      "pygments_lexer": "ipython3",
      "version": "3.8.8"
    },
    "vscode": {
      "interpreter": {
        "hash": "997914090796ba26cdf728bd2356d88cafbb2b99cb110e87b4d7f0c0041958d5"
      }
    },
    "colab": {
      "name": "NID.ipynb",
      "provenance": [],
      "include_colab_link": true
    }
  },
  "nbformat": 4,
  "nbformat_minor": 0
}